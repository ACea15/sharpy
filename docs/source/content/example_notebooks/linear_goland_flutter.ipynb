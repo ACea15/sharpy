{
 "cells": [
  {
   "cell_type": "markdown",
   "metadata": {},
   "source": [
    "# SHARPy Example - Linear Solver\n",
    "\n",
    "This is an example using SHARPy to find the flutter speed of a Goland wing by:\n",
    "* Calculating aerodynamic forces and deflections using a nonlinear solver\n",
    "* Linearising about this reference condition\n",
    "* Creating a reduced order model of the linearised aerodynamics\n",
    "* Evaluate the stability of the linearised aeroelastic system at different velocities"
   ]
  },
  {
   "cell_type": "code",
   "execution_count": null,
   "metadata": {},
   "outputs": [],
   "source": []
  }
 ],
 "metadata": {
  "kernelspec": {
   "display_name": "Python 3",
   "language": "python",
   "name": "python3"
  },
  "language_info": {
   "codemirror_mode": {
    "name": "ipython",
    "version": 3
   },
   "file_extension": ".py",
   "mimetype": "text/x-python",
   "name": "python",
   "nbconvert_exporter": "python",
   "pygments_lexer": "ipython3",
   "version": "3.7.3"
  }
 },
 "nbformat": 4,
 "nbformat_minor": 2
}
