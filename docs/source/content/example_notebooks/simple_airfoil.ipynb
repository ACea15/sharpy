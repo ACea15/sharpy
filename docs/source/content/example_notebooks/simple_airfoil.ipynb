{
 "cells": [
  {
   "cell_type": "markdown",
   "metadata": {},
   "source": [
    "# Simple airfoil"
   ]
  },
  {
   "cell_type": "markdown",
   "metadata": {},
   "source": [
    "This notebook explains how to create a simple airfoil in SHARPy.\n",
    "The objective is to help the reader to create a first case in SHARPy with the minimum possible complexity.Depending on the curiosity of the reader, it can be used as a base for further discovery of the code."
   ]
  },
  {
   "cell_type": "markdown",
   "metadata": {},
   "source": [
    "## Generation of the case"
   ]
  },
  {
   "cell_type": "markdown",
   "metadata": {},
   "source": [
    "This section ..."
   ]
  },
  {
   "cell_type": "code",
   "execution_count": null,
   "metadata": {},
   "outputs": [],
   "source": []
  },
  {
   "cell_type": "code",
   "execution_count": 1,
   "metadata": {},
   "outputs": [],
   "source": [
    "# Loading of the used packages\n",
    "import numpy as np # basic mathematical and array functions\n",
    "import os # Functions related to the operating system\n",
    "import matplotlib.pyplot as plt # Plotting library\n",
    "\n",
    "import sharpy.sharpy_main\n",
    "import sharpy.utils.plotutils as pu # Plotting utilities\n",
    "from sharpy.utils.constants import deg2rad # Constant to conver degrees to radians\n",
    "import sharpy.utils.generate_cases as gc"
   ]
  },
  {
   "cell_type": "markdown",
   "metadata": {},
   "source": [
    "The \"generate_cases\" module of SHARPy tries to facilitate the creation of simple cases using common parameters as inputs and hidding the tedious work. Once the reader has understood the big picture on how to generate a case through this notebook, we recommend to naviate inside the functions to further understand SHARPy and to run the rest of the example notebooks that have a higher complexity."
   ]
  },
  {
   "cell_type": "markdown",
   "metadata": {},
   "source": [
    "### Define the case parameters"
   ]
  },
  {
   "cell_type": "code",
   "execution_count": 2,
   "metadata": {},
   "outputs": [],
   "source": [
    "# Geometry\n",
    "chord = 1. \n",
    "aspect_ratio = 16.\n",
    "wake_length = 50\n",
    "\n",
    "# Discretization\n",
    "num_node = 21\n",
    "num_chord_panels = 4\n",
    "num_points_camber = 200\n",
    "\n",
    "aoa_ini_deg = 2.\n",
    "\n",
    "# Operation\n",
    "WSP = 25\n",
    "air_density = 0.0899\n",
    "\n",
    "# Time discretization\n",
    "end_time = 10.0\n",
    "dt = chord/num_chord_panels/WSP # Always keep one timestep per panel\n",
    "\n",
    "# Stiffness\n",
    "mass_per_unit_length = 0.75\n",
    "mass_iner_x = 0.1\n",
    "mass_iner_y = 0.05\n",
    "mass_iner_z = 0.05\n",
    "pos_cg_B = np.zeros((3))\n",
    "EA = 1e7\n",
    "GAy = 1e6\n",
    "GAz = 1e6\n",
    "GJ = 1e4\n",
    "EIy = 2e4 # Flapwise\n",
    "EIz = 5e6 # Edgewise"
   ]
  },
  {
   "cell_type": "code",
   "execution_count": 3,
   "metadata": {},
   "outputs": [
    {
     "data": {
      "text/html": [
       "<img src=\"https://raw.githubusercontent.com/ImperialCollegeLondon/sharpy/dev_doc/docs/source/content/example_notebooks/images/simple_airfoil.png\" width=\"800\"/>"
      ],
      "text/plain": [
       "<IPython.core.display.Image object>"
      ]
     },
     "execution_count": 3,
     "metadata": {},
     "output_type": "execute_result"
    }
   ],
   "source": [
    "%config InlineBackend.figure_format = 'svg'\n",
    "from IPython.display import Image\n",
    "url = 'https://raw.githubusercontent.com/ImperialCollegeLondon/sharpy/dev_doc/docs/source/content/example_notebooks/images/simple_airfoil.png'\n",
    "Image(url=url, width=800)"
   ]
  },
  {
   "cell_type": "markdown",
   "metadata": {},
   "source": [
    "### Generate SHARPy required inputs"
   ]
  },
  {
   "cell_type": "code",
   "execution_count": null,
   "metadata": {},
   "outputs": [],
   "source": [
    "\n",
    "\n"
   ]
  },
  {
   "cell_type": "markdown",
   "metadata": {},
   "source": [
    "The following cells will create an AeroelasticInformation class. This class is not directly used by SHARPy, it has been thought as an intermediate step between common engineering inputs and the input information that SHARPy needs. \n",
    "It has a lot of functionalities (rotate objects, assembly simple strucures ...) but it does not provide as much functionalities as SHARPy. For that reason, we encourage the reader to dive into the functions and the rest of the example notebooks to figure out the real inputs required by SHARPy."
   ]
  },
  {
   "cell_type": "code",
   "execution_count": 4,
   "metadata": {},
   "outputs": [],
   "source": [
    "airfoil = gc.AeroelasticInformation()"
   ]
  },
  {
   "cell_type": "code",
   "execution_count": 5,
   "metadata": {},
   "outputs": [
    {
     "name": "stdout",
     "output_type": "stream",
     "text": [
      "None\n",
      "assembly_structures\n",
      "check_StructuralInformation\n",
      "compute_basic_num_elem\n",
      "compute_basic_num_node\n",
      "copy\n",
      "create_frame_of_reference_delta\n",
      "create_mass_db_from_vector\n",
      "create_simple_connectivities\n",
      "create_stiff_db_from_vector\n",
      "generate_1to1_from_vectors\n",
      "generate_fem_file\n",
      "generate_full_structure\n",
      "generate_uniform_beam\n",
      "generate_uniform_sym_beam\n",
      "rotate_around_origin\n",
      "set_to_zero\n"
     ]
    }
   ],
   "source": [
    "airfoil.__dict__.keys()\n",
    "airfoil.StructuralInformation.__dict__.keys()\n",
    "print(airfoil.StructuralInformation.connectivities)\n",
    "\n",
    "list_of_methdos = gc.list_methods(airfoil.StructuralInformation)\n"
   ]
  },
  {
   "cell_type": "code",
   "execution_count": 6,
   "metadata": {},
   "outputs": [],
   "source": [
    "airfoil.StructuralInformation.num_node = num_node\n",
    "airfoil.StructuralInformation.num_node_elem = 3\n",
    "airfoil.StructuralInformation.compute_basic_num_elem()"
   ]
  },
  {
   "cell_type": "code",
   "execution_count": 7,
   "metadata": {},
   "outputs": [],
   "source": [
    "# Generate an array with the location of the nodes\n",
    "node_r = np.zeros((num_node,3))\n",
    "node_r[:,1] = np.linspace(0, chord*aspect_ratio, num_node)"
   ]
  },
  {
   "cell_type": "code",
   "execution_count": 8,
   "metadata": {},
   "outputs": [
    {
     "name": "stdout",
     "output_type": "stream",
     "text": [
      "[[ 0  2  1]\n",
      " [ 2  4  3]\n",
      " [ 4  6  5]\n",
      " [ 6  8  7]\n",
      " [ 8 10  9]\n",
      " [10 12 11]\n",
      " [12 14 13]\n",
      " [14 16 15]\n",
      " [16 18 17]\n",
      " [18 20 19]]\n"
     ]
    }
   ],
   "source": [
    "airfoil.StructuralInformation.generate_uniform_beam(node_r,\n",
    "                    mass_per_unit_length,\n",
    "                    mass_iner_x,\n",
    "                    mass_iner_y,\n",
    "                    mass_iner_z,\n",
    "                    pos_cg_B,\n",
    "                    EA,\n",
    "                    GAy,\n",
    "                    GAz,\n",
    "                    GJ,\n",
    "                    EIy,\n",
    "                    EIz,\n",
    "                    num_node_elem = airfoil.StructuralInformation.num_node_elem,\n",
    "                    y_BFoR = 'x_AFoR',\n",
    "                    num_lumped_mass=0)\n",
    "\n",
    "airfoil.StructuralInformation.structural_twist = np.zeros((airfoil.StructuralInformation.num_elem, airfoil.StructuralInformation.num_node_elem),)\n",
    "#airfoil.StructuralInformation.boundary_conditions = np.zeros((airfoil.StructuralInformation.num_node), dtype = int)\n",
    "airfoil.StructuralInformation.boundary_conditions[0] = 1\n",
    "airfoil.StructuralInformation.boundary_conditions[-1] = -1\n",
    "\n",
    "print(airfoil.StructuralInformation.connectivities)"
   ]
  },
  {
   "cell_type": "code",
   "execution_count": 9,
   "metadata": {},
   "outputs": [],
   "source": [
    "# Define the coordinates of the camber line of the airfoils used\n",
    "# \n",
    "airfoil_camber = np.zeros((1, num_points_camber, 2))\n",
    "airfoil_camber[0, :, 0] = np.linspace(0, 1, num_points_camber)\n",
    "\n",
    "# Compute the number of panels in the wake (streamwise direction) based on the previous paramete\n",
    "mstar = int(wake_length*chord/dt)"
   ]
  },
  {
   "cell_type": "code",
   "execution_count": 10,
   "metadata": {},
   "outputs": [],
   "source": [
    "# Generate blade aerodynamics\n",
    "airfoil.AerodynamicInformation.create_one_uniform_aerodynamics(airfoil.StructuralInformation,\n",
    "                                 chord = chord,\n",
    "                                 twist = 0.,\n",
    "                                 sweep = 0.,\n",
    "                                 num_chord_panels = num_chord_panels,\n",
    "                                 m_distribution = 'uniform',\n",
    "                                 elastic_axis = 0.5,\n",
    "                                 num_points_camber = num_points_camber,\n",
    "                                 airfoil = airfoil_camber)"
   ]
  },
  {
   "cell_type": "markdown",
   "metadata": {},
   "source": [
    "let's run a first simulation with SHARPy. It will perform no computation, it will just load the data so we can plot the system we have just created."
   ]
  },
  {
   "cell_type": "code",
   "execution_count": 11,
   "metadata": {},
   "outputs": [],
   "source": [
    "# Generate basic information about the case\n",
    "case = ('aoa%.02f' % aoa_ini_deg).replace(\".\",\"p\")\n",
    "route = './'"
   ]
  },
  {
   "cell_type": "code",
   "execution_count": 41,
   "metadata": {},
   "outputs": [
    {
     "name": "stdout",
     "output_type": "stream",
     "text": [
      "Requirement already satisfied: notebook>=5.3 in /home/arturo/anaconda3/envs/sharpy_env/lib/python3.7/site-packages (6.0.1)\n",
      "Requirement already satisfied: ipywidgets>=7.2 in /home/arturo/anaconda3/envs/sharpy_env/lib/python3.7/site-packages (7.5.1)\n",
      "Requirement already satisfied: jinja2 in /home/arturo/anaconda3/envs/sharpy_env/lib/python3.7/site-packages (from notebook>=5.3) (2.10.3)\n",
      "Requirement already satisfied: pyzmq>=17 in /home/arturo/anaconda3/envs/sharpy_env/lib/python3.7/site-packages (from notebook>=5.3) (18.1.0)\n",
      "Requirement already satisfied: ipykernel in /home/arturo/anaconda3/envs/sharpy_env/lib/python3.7/site-packages (from notebook>=5.3) (5.1.3)\n",
      "Requirement already satisfied: traitlets>=4.2.1 in /home/arturo/anaconda3/envs/sharpy_env/lib/python3.7/site-packages (from notebook>=5.3) (4.3.3)\n",
      "Requirement already satisfied: prometheus-client in /home/arturo/anaconda3/envs/sharpy_env/lib/python3.7/site-packages (from notebook>=5.3) (0.7.1)\n",
      "Requirement already satisfied: terminado>=0.8.1 in /home/arturo/anaconda3/envs/sharpy_env/lib/python3.7/site-packages (from notebook>=5.3) (0.8.3)\n",
      "Requirement already satisfied: tornado>=5.0 in /home/arturo/anaconda3/envs/sharpy_env/lib/python3.7/site-packages (from notebook>=5.3) (6.0.3)\n",
      "Requirement already satisfied: jupyter-client>=5.3.1 in /home/arturo/anaconda3/envs/sharpy_env/lib/python3.7/site-packages (from notebook>=5.3) (5.3.3)\n",
      "Requirement already satisfied: nbformat in /home/arturo/anaconda3/envs/sharpy_env/lib/python3.7/site-packages (from notebook>=5.3) (4.4.0)\n",
      "Requirement already satisfied: ipython-genutils in /home/arturo/anaconda3/envs/sharpy_env/lib/python3.7/site-packages (from notebook>=5.3) (0.2.0)\n",
      "Requirement already satisfied: nbconvert in /home/arturo/anaconda3/envs/sharpy_env/lib/python3.7/site-packages (from notebook>=5.3) (5.6.1)\n",
      "Requirement already satisfied: jupyter-core>=4.4.0 in /home/arturo/anaconda3/envs/sharpy_env/lib/python3.7/site-packages (from notebook>=5.3) (4.5.0)\n",
      "Requirement already satisfied: Send2Trash in /home/arturo/anaconda3/envs/sharpy_env/lib/python3.7/site-packages (from notebook>=5.3) (1.5.0)\n",
      "Requirement already satisfied: ipython>=4.0.0; python_version >= \"3.3\" in /home/arturo/anaconda3/envs/sharpy_env/lib/python3.7/site-packages (from ipywidgets>=7.2) (7.10.1)\n",
      "Requirement already satisfied: widgetsnbextension~=3.5.0 in /home/arturo/anaconda3/envs/sharpy_env/lib/python3.7/site-packages (from ipywidgets>=7.2) (3.5.1)\n",
      "Requirement already satisfied: MarkupSafe>=0.23 in /home/arturo/anaconda3/envs/sharpy_env/lib/python3.7/site-packages (from jinja2->notebook>=5.3) (1.1.1)\n",
      "Requirement already satisfied: decorator in /home/arturo/anaconda3/envs/sharpy_env/lib/python3.7/site-packages (from traitlets>=4.2.1->notebook>=5.3) (4.4.1)\n",
      "Requirement already satisfied: six in /home/arturo/anaconda3/envs/sharpy_env/lib/python3.7/site-packages (from traitlets>=4.2.1->notebook>=5.3) (1.13.0)\n",
      "Requirement already satisfied: python-dateutil>=2.1 in /home/arturo/anaconda3/envs/sharpy_env/lib/python3.7/site-packages (from jupyter-client>=5.3.1->notebook>=5.3) (2.8.1)\n",
      "Requirement already satisfied: jsonschema!=2.5.0,>=2.4 in /home/arturo/anaconda3/envs/sharpy_env/lib/python3.7/site-packages (from nbformat->notebook>=5.3) (3.1.1)\n",
      "Requirement already satisfied: entrypoints>=0.2.2 in /home/arturo/anaconda3/envs/sharpy_env/lib/python3.7/site-packages (from nbconvert->notebook>=5.3) (0.3)\n",
      "Requirement already satisfied: mistune<2,>=0.8.1 in /home/arturo/anaconda3/envs/sharpy_env/lib/python3.7/site-packages (from nbconvert->notebook>=5.3) (0.8.4)\n",
      "Requirement already satisfied: bleach in /home/arturo/anaconda3/envs/sharpy_env/lib/python3.7/site-packages (from nbconvert->notebook>=5.3) (3.1.0)\n",
      "Requirement already satisfied: testpath in /home/arturo/anaconda3/envs/sharpy_env/lib/python3.7/site-packages (from nbconvert->notebook>=5.3) (0.4.4)\n",
      "Requirement already satisfied: pandocfilters>=1.4.1 in /home/arturo/anaconda3/envs/sharpy_env/lib/python3.7/site-packages (from nbconvert->notebook>=5.3) (1.4.2)\n",
      "Requirement already satisfied: defusedxml in /home/arturo/anaconda3/envs/sharpy_env/lib/python3.7/site-packages (from nbconvert->notebook>=5.3) (0.6.0)\n",
      "Requirement already satisfied: pygments in /home/arturo/anaconda3/envs/sharpy_env/lib/python3.7/site-packages (from nbconvert->notebook>=5.3) (2.4.2)\n",
      "Requirement already satisfied: pickleshare in /home/arturo/anaconda3/envs/sharpy_env/lib/python3.7/site-packages (from ipython>=4.0.0; python_version >= \"3.3\"->ipywidgets>=7.2) (0.7.5)\n",
      "Requirement already satisfied: pexpect; sys_platform != \"win32\" in /home/arturo/anaconda3/envs/sharpy_env/lib/python3.7/site-packages (from ipython>=4.0.0; python_version >= \"3.3\"->ipywidgets>=7.2) (4.7.0)\n",
      "Requirement already satisfied: jedi>=0.10 in /home/arturo/anaconda3/envs/sharpy_env/lib/python3.7/site-packages (from ipython>=4.0.0; python_version >= \"3.3\"->ipywidgets>=7.2) (0.15.1)\n",
      "Requirement already satisfied: prompt-toolkit!=3.0.0,!=3.0.1,<3.1.0,>=2.0.0 in /home/arturo/anaconda3/envs/sharpy_env/lib/python3.7/site-packages (from ipython>=4.0.0; python_version >= \"3.3\"->ipywidgets>=7.2) (3.0.2)\n",
      "Requirement already satisfied: backcall in /home/arturo/anaconda3/envs/sharpy_env/lib/python3.7/site-packages (from ipython>=4.0.0; python_version >= \"3.3\"->ipywidgets>=7.2) (0.1.0)\n",
      "Requirement already satisfied: setuptools>=18.5 in /home/arturo/anaconda3/envs/sharpy_env/lib/python3.7/site-packages (from ipython>=4.0.0; python_version >= \"3.3\"->ipywidgets>=7.2) (41.6.0.post20191029)\n",
      "Requirement already satisfied: attrs>=17.4.0 in /home/arturo/anaconda3/envs/sharpy_env/lib/python3.7/site-packages (from jsonschema!=2.5.0,>=2.4->nbformat->notebook>=5.3) (19.3.0)\n",
      "Requirement already satisfied: importlib-metadata in /home/arturo/anaconda3/envs/sharpy_env/lib/python3.7/site-packages (from jsonschema!=2.5.0,>=2.4->nbformat->notebook>=5.3) (0.23)\n",
      "Requirement already satisfied: pyrsistent>=0.14.0 in /home/arturo/anaconda3/envs/sharpy_env/lib/python3.7/site-packages (from jsonschema!=2.5.0,>=2.4->nbformat->notebook>=5.3) (0.15.5)\n",
      "Requirement already satisfied: webencodings in /home/arturo/anaconda3/envs/sharpy_env/lib/python3.7/site-packages (from bleach->nbconvert->notebook>=5.3) (0.5.1)\n",
      "Requirement already satisfied: ptyprocess>=0.5 in /home/arturo/anaconda3/envs/sharpy_env/lib/python3.7/site-packages (from pexpect; sys_platform != \"win32\"->ipython>=4.0.0; python_version >= \"3.3\"->ipywidgets>=7.2) (0.6.0)\n",
      "Requirement already satisfied: parso>=0.5.0 in /home/arturo/anaconda3/envs/sharpy_env/lib/python3.7/site-packages (from jedi>=0.10->ipython>=4.0.0; python_version >= \"3.3\"->ipywidgets>=7.2) (0.5.1)\n",
      "Requirement already satisfied: wcwidth in /home/arturo/anaconda3/envs/sharpy_env/lib/python3.7/site-packages (from prompt-toolkit!=3.0.0,!=3.0.1,<3.1.0,>=2.0.0->ipython>=4.0.0; python_version >= \"3.3\"->ipywidgets>=7.2) (0.1.7)\n",
      "Requirement already satisfied: zipp>=0.5 in /home/arturo/anaconda3/envs/sharpy_env/lib/python3.7/site-packages (from importlib-metadata->jsonschema!=2.5.0,>=2.4->nbformat->notebook>=5.3) (0.6.0)\n",
      "Requirement already satisfied: more-itertools in /home/arturo/anaconda3/envs/sharpy_env/lib/python3.7/site-packages (from zipp>=0.5->importlib-metadata->jsonschema!=2.5.0,>=2.4->nbformat->notebook>=5.3) (7.2.0)\n",
      "Note: you may need to restart the kernel to use updated packages.\n"
     ]
    }
   ],
   "source": [
    "pip install \"notebook>=5.3\" \"ipywidgets>=7.2\""
   ]
  },
  {
   "cell_type": "code",
   "execution_count": 39,
   "metadata": {},
   "outputs": [],
   "source": [
    "# Define the simulation\n",
    "SimInfo = gc.SimulationInformation()\n",
    "SimInfo.set_default_values()\n",
    "\n",
    "SimInfo.solvers['SHARPy']['flow'] = ['BeamLoader',\n",
    "                        'AerogridLoader']\n",
    "\n",
    "SimInfo.solvers['SHARPy']['case'] = case\n",
    "SimInfo.solvers['SHARPy']['route'] = route\n",
    "SimInfo.solvers['SHARPy']['write_screen'] = 'off'\n",
    "\n",
    "SimInfo.solvers['AerogridLoader']['unsteady'] = 'on'\n",
    "SimInfo.solvers['AerogridLoader']['mstar'] = mstar\n",
    "SimInfo.solvers['AerogridLoader']['freestream_dir'] = np.array([1.,0.,0.])\n",
    "SimInfo.solvers['AerogridLoader']['wake_shape_generator'] = 'StraightWake'\n",
    "SimInfo.solvers['AerogridLoader']['wake_shape_generator_input'] = {'u_inf': WSP,\n",
    "                                                                   'u_inf_direction': np.array([np.cos(aoa_ini_deg*deg2rad), 0., np.sin(aoa_ini_deg*deg2rad)]),\n",
    "                                                                   'dt': dt}\n",
    "\n",
    "gc.clean_test_files(SimInfo.solvers['SHARPy']['route'], SimInfo.solvers['SHARPy']['case'])\n",
    "airfoil.generate_h5_files(SimInfo.solvers['SHARPy']['route'], SimInfo.solvers['SHARPy']['case'])\n",
    "SimInfo.generate_solver_file()\n",
    "\n",
    "sharpy_output = sharpy.sharpy_main.main(['', SimInfo.solvers['SHARPy']['route'] + SimInfo.solvers['SHARPy']['case'] + '.sharpy'])\n",
    "\n"
   ]
  },
  {
   "cell_type": "code",
   "execution_count": 36,
   "metadata": {},
   "outputs": [],
   "source": []
  },
  {
   "cell_type": "code",
   "execution_count": 37,
   "metadata": {},
   "outputs": [
    {
     "data": {
      "application/vnd.plotly.v1+json": {
       "config": {
        "plotlyServerURL": "https://plot.ly"
       },
       "data": [
        {
         "line": {
          "color": "blue",
          "width": 4
         },
         "marker": {
          "color": "blue",
          "size": 2
         },
         "name": "Beam nodes",
         "type": "scatter3d",
         "x": [
          0,
          0,
          0
         ],
         "y": [
          0,
          0.8,
          1.6
         ],
         "z": [
          0,
          0,
          0
         ]
        },
        {
         "line": {
          "color": "blue",
          "width": 4
         },
         "marker": {
          "color": "blue",
          "size": 2
         },
         "showlegend": false,
         "type": "scatter3d",
         "x": [
          0,
          0,
          0
         ],
         "y": [
          1.6,
          2.4000000000000004,
          3.2
         ],
         "z": [
          0,
          0,
          0
         ]
        },
        {
         "line": {
          "color": "blue",
          "width": 4
         },
         "marker": {
          "color": "blue",
          "size": 2
         },
         "showlegend": false,
         "type": "scatter3d",
         "x": [
          0,
          0,
          0
         ],
         "y": [
          3.2,
          4,
          4.800000000000001
         ],
         "z": [
          0,
          0,
          0
         ]
        },
        {
         "line": {
          "color": "blue",
          "width": 4
         },
         "marker": {
          "color": "blue",
          "size": 2
         },
         "showlegend": false,
         "type": "scatter3d",
         "x": [
          0,
          0,
          0
         ],
         "y": [
          4.800000000000001,
          5.6000000000000005,
          6.4
         ],
         "z": [
          0,
          0,
          0
         ]
        },
        {
         "line": {
          "color": "blue",
          "width": 4
         },
         "marker": {
          "color": "blue",
          "size": 2
         },
         "showlegend": false,
         "type": "scatter3d",
         "x": [
          0,
          0,
          0
         ],
         "y": [
          6.4,
          7.2,
          8
         ],
         "z": [
          0,
          0,
          0
         ]
        },
        {
         "line": {
          "color": "blue",
          "width": 4
         },
         "marker": {
          "color": "blue",
          "size": 2
         },
         "showlegend": false,
         "type": "scatter3d",
         "x": [
          0,
          0,
          0
         ],
         "y": [
          8,
          8.8,
          9.600000000000001
         ],
         "z": [
          0,
          0,
          0
         ]
        },
        {
         "line": {
          "color": "blue",
          "width": 4
         },
         "marker": {
          "color": "blue",
          "size": 2
         },
         "showlegend": false,
         "type": "scatter3d",
         "x": [
          0,
          0,
          0
         ],
         "y": [
          9.600000000000001,
          10.4,
          11.200000000000001
         ],
         "z": [
          0,
          0,
          0
         ]
        },
        {
         "line": {
          "color": "blue",
          "width": 4
         },
         "marker": {
          "color": "blue",
          "size": 2
         },
         "showlegend": false,
         "type": "scatter3d",
         "x": [
          0,
          0,
          0
         ],
         "y": [
          11.200000000000001,
          12,
          12.8
         ],
         "z": [
          0,
          0,
          0
         ]
        },
        {
         "line": {
          "color": "blue",
          "width": 4
         },
         "marker": {
          "color": "blue",
          "size": 2
         },
         "showlegend": false,
         "type": "scatter3d",
         "x": [
          0,
          0,
          0
         ],
         "y": [
          12.8,
          13.600000000000001,
          14.4
         ],
         "z": [
          0,
          0,
          0
         ]
        },
        {
         "line": {
          "color": "blue",
          "width": 4
         },
         "marker": {
          "color": "blue",
          "size": 2
         },
         "showlegend": false,
         "type": "scatter3d",
         "x": [
          0,
          0,
          0
         ],
         "y": [
          14.4,
          15.200000000000001,
          16
         ],
         "z": [
          0,
          0,
          0
         ]
        },
        {
         "line": {
          "color": "black"
         },
         "mode": "lines",
         "showlegend": false,
         "type": "scatter3d",
         "x": [
          -0.4375000000000001,
          -0.4375000000000001,
          -0.4375000000000001,
          -0.4375000000000001,
          -0.4375000000000001,
          -0.4375000000000001,
          -0.4375000000000001,
          -0.4375000000000001,
          -0.4375000000000001,
          -0.4375000000000001,
          -0.4375000000000001,
          -0.4375000000000001,
          -0.4375000000000001,
          -0.4375000000000001,
          -0.4375000000000001,
          -0.4375000000000001,
          -0.4375000000000001,
          -0.4375000000000001,
          -0.4375000000000001,
          -0.4375000000000001,
          -0.4375000000000001
         ],
         "y": [
          -7.126160546901204e-18,
          0.8,
          1.6,
          2.4000000000000004,
          3.2,
          4,
          4.800000000000001,
          5.6000000000000005,
          6.4,
          7.2,
          8,
          8.8,
          9.600000000000001,
          10.4,
          11.200000000000001,
          12,
          12.8,
          13.600000000000001,
          14.4,
          15.200000000000001,
          16
         ],
         "z": [
          -3.7885577460302824e-17,
          -3.7885577460302824e-17,
          -3.7885577460302824e-17,
          -3.7885577460302824e-17,
          -3.7885577460302824e-17,
          -3.7885577460302824e-17,
          -3.7885577460302824e-17,
          -3.7885577460302824e-17,
          -3.7885577460302824e-17,
          -3.7885577460302824e-17,
          -3.7885577460302824e-17,
          -3.7885577460302824e-17,
          -3.7885577460302824e-17,
          -3.7885577460302824e-17,
          -3.7885577460302824e-17,
          -3.7885577460302824e-17,
          -3.7885577460302824e-17,
          -3.7885577460302824e-17,
          -3.7885577460302824e-17,
          -3.7885577460302824e-17,
          -3.7885577460302824e-17
         ]
        },
        {
         "line": {
          "color": "black"
         },
         "mode": "lines",
         "showlegend": false,
         "type": "scatter3d",
         "x": [
          -0.18750000000000006,
          -0.18750000000000006,
          -0.18750000000000006,
          -0.18750000000000006,
          -0.18750000000000006,
          -0.18750000000000006,
          -0.18750000000000006,
          -0.18750000000000006,
          -0.18750000000000006,
          -0.18750000000000006,
          -0.18750000000000006,
          -0.18750000000000006,
          -0.18750000000000006,
          -0.18750000000000006,
          -0.18750000000000006,
          -0.18750000000000006,
          -0.18750000000000006,
          -0.18750000000000006,
          -0.18750000000000006,
          -0.18750000000000006,
          -0.18750000000000006
         ],
         "y": [
          -3.054068805814802e-18,
          0.8,
          1.6,
          2.4000000000000004,
          3.2,
          4,
          4.800000000000001,
          5.6000000000000005,
          6.4,
          7.2,
          8,
          8.8,
          9.600000000000001,
          10.4,
          11.200000000000001,
          12,
          12.8,
          13.600000000000001,
          14.4,
          15.200000000000001,
          16
         ],
         "z": [
          -1.6236676054415498e-17,
          -1.6236676054415498e-17,
          -1.6236676054415498e-17,
          -1.6236676054415498e-17,
          -1.6236676054415498e-17,
          -1.6236676054415498e-17,
          -1.6236676054415498e-17,
          -1.6236676054415498e-17,
          -1.6236676054415498e-17,
          -1.6236676054415498e-17,
          -1.6236676054415498e-17,
          -1.6236676054415498e-17,
          -1.6236676054415498e-17,
          -1.6236676054415498e-17,
          -1.6236676054415498e-17,
          -1.6236676054415498e-17,
          -1.6236676054415498e-17,
          -1.6236676054415498e-17,
          -1.6236676054415498e-17,
          -1.6236676054415498e-17,
          -1.6236676054415498e-17
         ]
        },
        {
         "line": {
          "color": "black"
         },
         "mode": "lines",
         "showlegend": false,
         "type": "scatter3d",
         "x": [
          0.06250000000000001,
          0.06250000000000001,
          0.06250000000000001,
          0.06250000000000001,
          0.06250000000000001,
          0.06250000000000001,
          0.06250000000000001,
          0.06250000000000001,
          0.06250000000000001,
          0.06250000000000001,
          0.06250000000000001,
          0.06250000000000001,
          0.06250000000000001,
          0.06250000000000001,
          0.06250000000000001,
          0.06250000000000001,
          0.06250000000000001,
          0.06250000000000001,
          0.06250000000000001,
          0.06250000000000001,
          0.06250000000000001
         ],
         "y": [
          1.0180229352716006e-18,
          0.8,
          1.6,
          2.4000000000000004,
          3.2,
          4,
          4.800000000000001,
          5.6000000000000005,
          6.4,
          7.2,
          8,
          8.8,
          9.600000000000001,
          10.4,
          11.200000000000001,
          12,
          12.8,
          13.600000000000001,
          14.4,
          15.200000000000001,
          16
         ],
         "z": [
          5.412225351471832e-18,
          5.412225351471832e-18,
          5.412225351471832e-18,
          5.412225351471832e-18,
          5.412225351471832e-18,
          5.412225351471832e-18,
          5.412225351471832e-18,
          5.412225351471832e-18,
          5.412225351471832e-18,
          5.412225351471832e-18,
          5.412225351471832e-18,
          5.412225351471832e-18,
          5.412225351471832e-18,
          5.412225351471832e-18,
          5.412225351471832e-18,
          5.412225351471832e-18,
          5.412225351471832e-18,
          5.412225351471832e-18,
          5.412225351471832e-18,
          5.412225351471832e-18,
          5.412225351471832e-18
         ]
        },
        {
         "line": {
          "color": "black"
         },
         "mode": "lines",
         "showlegend": false,
         "type": "scatter3d",
         "x": [
          0.31250000000000006,
          0.31250000000000006,
          0.31250000000000006,
          0.31250000000000006,
          0.31250000000000006,
          0.31250000000000006,
          0.31250000000000006,
          0.31250000000000006,
          0.31250000000000006,
          0.31250000000000006,
          0.31250000000000006,
          0.31250000000000006,
          0.31250000000000006,
          0.31250000000000006,
          0.31250000000000006,
          0.31250000000000006,
          0.31250000000000006,
          0.31250000000000006,
          0.31250000000000006,
          0.31250000000000006,
          0.31250000000000006
         ],
         "y": [
          5.090114676358003e-18,
          0.8,
          1.6,
          2.4000000000000004,
          3.2,
          4,
          4.800000000000001,
          5.6000000000000005,
          6.4,
          7.2,
          8,
          8.8,
          9.600000000000001,
          10.4,
          11.200000000000001,
          12,
          12.8,
          13.600000000000001,
          14.4,
          15.200000000000001,
          16
         ],
         "z": [
          2.706112675735916e-17,
          2.706112675735916e-17,
          2.706112675735916e-17,
          2.706112675735916e-17,
          2.706112675735916e-17,
          2.706112675735916e-17,
          2.706112675735916e-17,
          2.706112675735916e-17,
          2.706112675735916e-17,
          2.706112675735916e-17,
          2.706112675735916e-17,
          2.706112675735916e-17,
          2.706112675735916e-17,
          2.706112675735916e-17,
          2.706112675735916e-17,
          2.706112675735916e-17,
          2.706112675735916e-17,
          2.706112675735916e-17,
          2.706112675735916e-17,
          2.706112675735916e-17,
          2.706112675735916e-17
         ]
        },
        {
         "line": {
          "color": "black"
         },
         "mode": "lines",
         "showlegend": false,
         "type": "scatter3d",
         "x": [
          0.5625000000000001,
          0.5625000000000001,
          0.5625000000000001,
          0.5625000000000001,
          0.5625000000000001,
          0.5625000000000001,
          0.5625000000000001,
          0.5625000000000001,
          0.5625000000000001,
          0.5625000000000001,
          0.5625000000000001,
          0.5625000000000001,
          0.5625000000000001,
          0.5625000000000001,
          0.5625000000000001,
          0.5625000000000001,
          0.5625000000000001,
          0.5625000000000001,
          0.5625000000000001,
          0.5625000000000001,
          0.5625000000000001
         ],
         "y": [
          9.162206417444405e-18,
          0.8,
          1.6,
          2.4000000000000004,
          3.2,
          4,
          4.800000000000001,
          5.6000000000000005,
          6.4,
          7.2,
          8,
          8.8,
          9.600000000000001,
          10.4,
          11.200000000000001,
          12,
          12.8,
          13.600000000000001,
          14.4,
          15.200000000000001,
          16
         ],
         "z": [
          4.871002816324649e-17,
          4.871002816324649e-17,
          4.871002816324649e-17,
          4.871002816324649e-17,
          4.871002816324649e-17,
          4.871002816324649e-17,
          4.871002816324649e-17,
          4.871002816324649e-17,
          4.871002816324649e-17,
          4.871002816324649e-17,
          4.871002816324649e-17,
          4.871002816324649e-17,
          4.871002816324649e-17,
          4.871002816324649e-17,
          4.871002816324649e-17,
          4.871002816324649e-17,
          4.871002816324649e-17,
          4.871002816324649e-17,
          4.871002816324649e-17,
          4.871002816324649e-17,
          4.871002816324649e-17
         ]
        },
        {
         "line": {
          "color": "black"
         },
         "mode": "lines",
         "showlegend": false,
         "type": "scatter3d",
         "x": [
          -0.4375000000000001,
          -0.18750000000000006,
          0.06250000000000001,
          0.31250000000000006,
          0.5625000000000001
         ],
         "y": [
          -7.126160546901204e-18,
          -3.054068805814802e-18,
          1.0180229352716006e-18,
          5.090114676358003e-18,
          9.162206417444405e-18
         ],
         "z": [
          -3.7885577460302824e-17,
          -1.6236676054415498e-17,
          5.412225351471832e-18,
          2.706112675735916e-17,
          4.871002816324649e-17
         ]
        },
        {
         "line": {
          "color": "black"
         },
         "mode": "lines",
         "showlegend": false,
         "type": "scatter3d",
         "x": [
          -0.4375000000000001,
          -0.18750000000000006,
          0.06250000000000001,
          0.31250000000000006,
          0.5625000000000001
         ],
         "y": [
          0.8,
          0.8,
          0.8,
          0.8,
          0.8
         ],
         "z": [
          -3.7885577460302824e-17,
          -1.6236676054415498e-17,
          5.412225351471832e-18,
          2.706112675735916e-17,
          4.871002816324649e-17
         ]
        },
        {
         "line": {
          "color": "black"
         },
         "mode": "lines",
         "showlegend": false,
         "type": "scatter3d",
         "x": [
          -0.4375000000000001,
          -0.18750000000000006,
          0.06250000000000001,
          0.31250000000000006,
          0.5625000000000001
         ],
         "y": [
          1.6,
          1.6,
          1.6,
          1.6,
          1.6
         ],
         "z": [
          -3.7885577460302824e-17,
          -1.6236676054415498e-17,
          5.412225351471832e-18,
          2.706112675735916e-17,
          4.871002816324649e-17
         ]
        },
        {
         "line": {
          "color": "black"
         },
         "mode": "lines",
         "showlegend": false,
         "type": "scatter3d",
         "x": [
          -0.4375000000000001,
          -0.18750000000000006,
          0.06250000000000001,
          0.31250000000000006,
          0.5625000000000001
         ],
         "y": [
          2.4000000000000004,
          2.4000000000000004,
          2.4000000000000004,
          2.4000000000000004,
          2.4000000000000004
         ],
         "z": [
          -3.7885577460302824e-17,
          -1.6236676054415498e-17,
          5.412225351471832e-18,
          2.706112675735916e-17,
          4.871002816324649e-17
         ]
        },
        {
         "line": {
          "color": "black"
         },
         "mode": "lines",
         "showlegend": false,
         "type": "scatter3d",
         "x": [
          -0.4375000000000001,
          -0.18750000000000006,
          0.06250000000000001,
          0.31250000000000006,
          0.5625000000000001
         ],
         "y": [
          3.2,
          3.2,
          3.2,
          3.2,
          3.2
         ],
         "z": [
          -3.7885577460302824e-17,
          -1.6236676054415498e-17,
          5.412225351471832e-18,
          2.706112675735916e-17,
          4.871002816324649e-17
         ]
        },
        {
         "line": {
          "color": "black"
         },
         "mode": "lines",
         "showlegend": false,
         "type": "scatter3d",
         "x": [
          -0.4375000000000001,
          -0.18750000000000006,
          0.06250000000000001,
          0.31250000000000006,
          0.5625000000000001
         ],
         "y": [
          4,
          4,
          4,
          4,
          4
         ],
         "z": [
          -3.7885577460302824e-17,
          -1.6236676054415498e-17,
          5.412225351471832e-18,
          2.706112675735916e-17,
          4.871002816324649e-17
         ]
        },
        {
         "line": {
          "color": "black"
         },
         "mode": "lines",
         "showlegend": false,
         "type": "scatter3d",
         "x": [
          -0.4375000000000001,
          -0.18750000000000006,
          0.06250000000000001,
          0.31250000000000006,
          0.5625000000000001
         ],
         "y": [
          4.800000000000001,
          4.800000000000001,
          4.800000000000001,
          4.800000000000001,
          4.800000000000001
         ],
         "z": [
          -3.7885577460302824e-17,
          -1.6236676054415498e-17,
          5.412225351471832e-18,
          2.706112675735916e-17,
          4.871002816324649e-17
         ]
        },
        {
         "line": {
          "color": "black"
         },
         "mode": "lines",
         "showlegend": false,
         "type": "scatter3d",
         "x": [
          -0.4375000000000001,
          -0.18750000000000006,
          0.06250000000000001,
          0.31250000000000006,
          0.5625000000000001
         ],
         "y": [
          5.6000000000000005,
          5.6000000000000005,
          5.6000000000000005,
          5.6000000000000005,
          5.6000000000000005
         ],
         "z": [
          -3.7885577460302824e-17,
          -1.6236676054415498e-17,
          5.412225351471832e-18,
          2.706112675735916e-17,
          4.871002816324649e-17
         ]
        },
        {
         "line": {
          "color": "black"
         },
         "mode": "lines",
         "showlegend": false,
         "type": "scatter3d",
         "x": [
          -0.4375000000000001,
          -0.18750000000000006,
          0.06250000000000001,
          0.31250000000000006,
          0.5625000000000001
         ],
         "y": [
          6.4,
          6.4,
          6.4,
          6.4,
          6.4
         ],
         "z": [
          -3.7885577460302824e-17,
          -1.6236676054415498e-17,
          5.412225351471832e-18,
          2.706112675735916e-17,
          4.871002816324649e-17
         ]
        },
        {
         "line": {
          "color": "black"
         },
         "mode": "lines",
         "showlegend": false,
         "type": "scatter3d",
         "x": [
          -0.4375000000000001,
          -0.18750000000000006,
          0.06250000000000001,
          0.31250000000000006,
          0.5625000000000001
         ],
         "y": [
          7.2,
          7.2,
          7.2,
          7.2,
          7.2
         ],
         "z": [
          -3.7885577460302824e-17,
          -1.6236676054415498e-17,
          5.412225351471832e-18,
          2.706112675735916e-17,
          4.871002816324649e-17
         ]
        },
        {
         "line": {
          "color": "black"
         },
         "mode": "lines",
         "showlegend": false,
         "type": "scatter3d",
         "x": [
          -0.4375000000000001,
          -0.18750000000000006,
          0.06250000000000001,
          0.31250000000000006,
          0.5625000000000001
         ],
         "y": [
          8,
          8,
          8,
          8,
          8
         ],
         "z": [
          -3.7885577460302824e-17,
          -1.6236676054415498e-17,
          5.412225351471832e-18,
          2.706112675735916e-17,
          4.871002816324649e-17
         ]
        },
        {
         "line": {
          "color": "black"
         },
         "mode": "lines",
         "showlegend": false,
         "type": "scatter3d",
         "x": [
          -0.4375000000000001,
          -0.18750000000000006,
          0.06250000000000001,
          0.31250000000000006,
          0.5625000000000001
         ],
         "y": [
          8.8,
          8.8,
          8.8,
          8.8,
          8.8
         ],
         "z": [
          -3.7885577460302824e-17,
          -1.6236676054415498e-17,
          5.412225351471832e-18,
          2.706112675735916e-17,
          4.871002816324649e-17
         ]
        },
        {
         "line": {
          "color": "black"
         },
         "mode": "lines",
         "showlegend": false,
         "type": "scatter3d",
         "x": [
          -0.4375000000000001,
          -0.18750000000000006,
          0.06250000000000001,
          0.31250000000000006,
          0.5625000000000001
         ],
         "y": [
          9.600000000000001,
          9.600000000000001,
          9.600000000000001,
          9.600000000000001,
          9.600000000000001
         ],
         "z": [
          -3.7885577460302824e-17,
          -1.6236676054415498e-17,
          5.412225351471832e-18,
          2.706112675735916e-17,
          4.871002816324649e-17
         ]
        },
        {
         "line": {
          "color": "black"
         },
         "mode": "lines",
         "showlegend": false,
         "type": "scatter3d",
         "x": [
          -0.4375000000000001,
          -0.18750000000000006,
          0.06250000000000001,
          0.31250000000000006,
          0.5625000000000001
         ],
         "y": [
          10.4,
          10.4,
          10.4,
          10.4,
          10.4
         ],
         "z": [
          -3.7885577460302824e-17,
          -1.6236676054415498e-17,
          5.412225351471832e-18,
          2.706112675735916e-17,
          4.871002816324649e-17
         ]
        },
        {
         "line": {
          "color": "black"
         },
         "mode": "lines",
         "showlegend": false,
         "type": "scatter3d",
         "x": [
          -0.4375000000000001,
          -0.18750000000000006,
          0.06250000000000001,
          0.31250000000000006,
          0.5625000000000001
         ],
         "y": [
          11.200000000000001,
          11.200000000000001,
          11.200000000000001,
          11.200000000000001,
          11.200000000000001
         ],
         "z": [
          -3.7885577460302824e-17,
          -1.6236676054415498e-17,
          5.412225351471832e-18,
          2.706112675735916e-17,
          4.871002816324649e-17
         ]
        },
        {
         "line": {
          "color": "black"
         },
         "mode": "lines",
         "showlegend": false,
         "type": "scatter3d",
         "x": [
          -0.4375000000000001,
          -0.18750000000000006,
          0.06250000000000001,
          0.31250000000000006,
          0.5625000000000001
         ],
         "y": [
          12,
          12,
          12,
          12,
          12
         ],
         "z": [
          -3.7885577460302824e-17,
          -1.6236676054415498e-17,
          5.412225351471832e-18,
          2.706112675735916e-17,
          4.871002816324649e-17
         ]
        },
        {
         "line": {
          "color": "black"
         },
         "mode": "lines",
         "showlegend": false,
         "type": "scatter3d",
         "x": [
          -0.4375000000000001,
          -0.18750000000000006,
          0.06250000000000001,
          0.31250000000000006,
          0.5625000000000001
         ],
         "y": [
          12.8,
          12.8,
          12.8,
          12.8,
          12.8
         ],
         "z": [
          -3.7885577460302824e-17,
          -1.6236676054415498e-17,
          5.412225351471832e-18,
          2.706112675735916e-17,
          4.871002816324649e-17
         ]
        },
        {
         "line": {
          "color": "black"
         },
         "mode": "lines",
         "showlegend": false,
         "type": "scatter3d",
         "x": [
          -0.4375000000000001,
          -0.18750000000000006,
          0.06250000000000001,
          0.31250000000000006,
          0.5625000000000001
         ],
         "y": [
          13.600000000000001,
          13.600000000000001,
          13.600000000000001,
          13.600000000000001,
          13.600000000000001
         ],
         "z": [
          -3.7885577460302824e-17,
          -1.6236676054415498e-17,
          5.412225351471832e-18,
          2.706112675735916e-17,
          4.871002816324649e-17
         ]
        },
        {
         "line": {
          "color": "black"
         },
         "mode": "lines",
         "showlegend": false,
         "type": "scatter3d",
         "x": [
          -0.4375000000000001,
          -0.18750000000000006,
          0.06250000000000001,
          0.31250000000000006,
          0.5625000000000001
         ],
         "y": [
          14.4,
          14.4,
          14.4,
          14.4,
          14.4
         ],
         "z": [
          -3.7885577460302824e-17,
          -1.6236676054415498e-17,
          5.412225351471832e-18,
          2.706112675735916e-17,
          4.871002816324649e-17
         ]
        },
        {
         "line": {
          "color": "black"
         },
         "mode": "lines",
         "showlegend": false,
         "type": "scatter3d",
         "x": [
          -0.4375000000000001,
          -0.18750000000000006,
          0.06250000000000001,
          0.31250000000000006,
          0.5625000000000001
         ],
         "y": [
          15.200000000000001,
          15.200000000000001,
          15.200000000000001,
          15.200000000000001,
          15.200000000000001
         ],
         "z": [
          -3.7885577460302824e-17,
          -1.6236676054415498e-17,
          5.412225351471832e-18,
          2.706112675735916e-17,
          4.871002816324649e-17
         ]
        },
        {
         "line": {
          "color": "black"
         },
         "mode": "lines",
         "showlegend": false,
         "type": "scatter3d",
         "x": [
          -0.4375000000000001,
          -0.18750000000000006,
          0.06250000000000001,
          0.31250000000000006,
          0.5625000000000001
         ],
         "y": [
          16,
          16,
          16,
          16,
          16
         ],
         "z": [
          -3.7885577460302824e-17,
          -1.6236676054415498e-17,
          5.412225351471832e-18,
          2.706112675735916e-17,
          4.871002816324649e-17
         ]
        },
        {
         "line": {
          "color": "grey"
         },
         "mode": "lines",
         "name": "Aero surface",
         "surfaceaxis": 2,
         "type": "scatter3d",
         "x": [
          -0.4375000000000001,
          0.5625000000000001,
          0.5625000000000001,
          -0.4375000000000001,
          -0.4375000000000001
         ],
         "y": [
          -7.126160546901204e-18,
          9.162206417444405e-18,
          16,
          16,
          -7.126160546901204e-18
         ],
         "z": [
          -3.7885577460302824e-17,
          4.871002816324649e-17,
          4.871002816324649e-17,
          -3.7885577460302824e-17,
          -3.7885577460302824e-17
         ]
        },
        {
         "line": {
          "color": "grey"
         },
         "mode": "lines",
         "showlegend": false,
         "type": "scatter3d",
         "x": [
          0.5625000000000001,
          0.5625000000000001,
          0.5625000000000001,
          0.5625000000000001,
          0.5625000000000001,
          0.5625000000000001,
          0.5625000000000001,
          0.5625000000000001,
          0.5625000000000001,
          0.5625000000000001,
          0.5625000000000001,
          0.5625000000000001,
          0.5625000000000001,
          0.5625000000000001,
          0.5625000000000001,
          0.5625000000000001,
          0.5625000000000001,
          0.5625000000000001,
          0.5625000000000001,
          0.5625000000000001,
          0.5625000000000001
         ],
         "y": [
          9.162206417444405e-18,
          0.8,
          1.6,
          2.4000000000000004,
          3.2,
          4,
          4.800000000000001,
          5.6000000000000005,
          6.4,
          7.2,
          8,
          8.8,
          9.600000000000001,
          10.4,
          11.200000000000001,
          12,
          12.8,
          13.600000000000001,
          14.4,
          15.200000000000001,
          16
         ],
         "z": [
          4.871002816324649e-17,
          4.871002816324649e-17,
          4.871002816324649e-17,
          4.871002816324649e-17,
          4.871002816324649e-17,
          4.871002816324649e-17,
          4.871002816324649e-17,
          4.871002816324649e-17,
          4.871002816324649e-17,
          4.871002816324649e-17,
          4.871002816324649e-17,
          4.871002816324649e-17,
          4.871002816324649e-17,
          4.871002816324649e-17,
          4.871002816324649e-17,
          4.871002816324649e-17,
          4.871002816324649e-17,
          4.871002816324649e-17,
          4.871002816324649e-17,
          4.871002816324649e-17,
          4.871002816324649e-17
         ]
        },
        {
         "line": {
          "color": "grey"
         },
         "mode": "lines",
         "showlegend": false,
         "type": "scatter3d",
         "x": [
          0.8123477075000001,
          0.8123477075000001,
          0.8123477075000001,
          0.8123477075000001,
          0.8123477075000001,
          0.8123477075000001,
          0.8123477075000001,
          0.8123477075000001,
          0.8123477075000001,
          0.8123477075000001,
          0.8123477075000001,
          0.8123477075000001,
          0.8123477075000001,
          0.8123477075000001,
          0.8123477075000001,
          0.8123477075000001,
          0.8123477075000001,
          0.8123477075000001,
          0.8123477075000001,
          0.8123477075000001,
          0.8123477075000001
         ],
         "y": [
          9.162206417444405e-18,
          0.8,
          1.6,
          2.4000000000000004,
          3.2,
          4,
          4.800000000000001,
          5.6000000000000005,
          6.4,
          7.2,
          8,
          8.8,
          9.600000000000001,
          10.4,
          11.200000000000001,
          12,
          12.8,
          13.600000000000001,
          14.4,
          15.200000000000001,
          16
         ],
         "z": [
          0.008724875000000049,
          0.008724875000000049,
          0.008724875000000049,
          0.008724875000000049,
          0.008724875000000049,
          0.008724875000000049,
          0.008724875000000049,
          0.008724875000000049,
          0.008724875000000049,
          0.008724875000000049,
          0.008724875000000049,
          0.008724875000000049,
          0.008724875000000049,
          0.008724875000000049,
          0.008724875000000049,
          0.008724875000000049,
          0.008724875000000049,
          0.008724875000000049,
          0.008724875000000049,
          0.008724875000000049,
          0.008724875000000049
         ]
        },
        {
         "line": {
          "color": "grey"
         },
         "mode": "lines",
         "showlegend": false,
         "type": "scatter3d",
         "x": [
          1.0621954150000001,
          1.0621954150000001,
          1.0621954150000001,
          1.0621954150000001,
          1.0621954150000001,
          1.0621954150000001,
          1.0621954150000001,
          1.0621954150000001,
          1.0621954150000001,
          1.0621954150000001,
          1.0621954150000001,
          1.0621954150000001,
          1.0621954150000001,
          1.0621954150000001,
          1.0621954150000001,
          1.0621954150000001,
          1.0621954150000001,
          1.0621954150000001,
          1.0621954150000001,
          1.0621954150000001,
          1.0621954150000001
         ],
         "y": [
          9.162206417444405e-18,
          0.8,
          1.6,
          2.4000000000000004,
          3.2,
          4,
          4.800000000000001,
          5.6000000000000005,
          6.4,
          7.2,
          8,
          8.8,
          9.600000000000001,
          10.4,
          11.200000000000001,
          12,
          12.8,
          13.600000000000001,
          14.4,
          15.200000000000001,
          16
         ],
         "z": [
          0.01744975000000005,
          0.01744975000000005,
          0.01744975000000005,
          0.01744975000000005,
          0.01744975000000005,
          0.01744975000000005,
          0.01744975000000005,
          0.01744975000000005,
          0.01744975000000005,
          0.01744975000000005,
          0.01744975000000005,
          0.01744975000000005,
          0.01744975000000005,
          0.01744975000000005,
          0.01744975000000005,
          0.01744975000000005,
          0.01744975000000005,
          0.01744975000000005,
          0.01744975000000005,
          0.01744975000000005,
          0.01744975000000005
         ]
        },
        {
         "line": {
          "color": "grey"
         },
         "mode": "lines",
         "showlegend": false,
         "type": "scatter3d",
         "x": [
          1.3120431225000002,
          1.3120431225000002,
          1.3120431225000002,
          1.3120431225000002,
          1.3120431225000002,
          1.3120431225000002,
          1.3120431225000002,
          1.3120431225000002,
          1.3120431225000002,
          1.3120431225000002,
          1.3120431225000002,
          1.3120431225000002,
          1.3120431225000002,
          1.3120431225000002,
          1.3120431225000002,
          1.3120431225000002,
          1.3120431225000002,
          1.3120431225000002,
          1.3120431225000002,
          1.3120431225000002,
          1.3120431225000002
         ],
         "y": [
          9.162206417444405e-18,
          0.8,
          1.6,
          2.4000000000000004,
          3.2,
          4,
          4.800000000000001,
          5.6000000000000005,
          6.4,
          7.2,
          8,
          8.8,
          9.600000000000001,
          10.4,
          11.200000000000001,
          12,
          12.8,
          13.600000000000001,
          14.4,
          15.200000000000001,
          16
         ],
         "z": [
          0.02617462500000005,
          0.02617462500000005,
          0.02617462500000005,
          0.02617462500000005,
          0.02617462500000005,
          0.02617462500000005,
          0.02617462500000005,
          0.02617462500000005,
          0.02617462500000005,
          0.02617462500000005,
          0.02617462500000005,
          0.02617462500000005,
          0.02617462500000005,
          0.02617462500000005,
          0.02617462500000005,
          0.02617462500000005,
          0.02617462500000005,
          0.02617462500000005,
          0.02617462500000005,
          0.02617462500000005,
          0.02617462500000005
         ]
        },
        {
         "line": {
          "color": "grey"
         },
         "mode": "lines",
         "showlegend": false,
         "type": "scatter3d",
         "x": [
          1.5618908300000003,
          1.5618908300000003,
          1.5618908300000003,
          1.5618908300000003,
          1.5618908300000003,
          1.5618908300000003,
          1.5618908300000003,
          1.5618908300000003,
          1.5618908300000003,
          1.5618908300000003,
          1.5618908300000003,
          1.5618908300000003,
          1.5618908300000003,
          1.5618908300000003,
          1.5618908300000003,
          1.5618908300000003,
          1.5618908300000003,
          1.5618908300000003,
          1.5618908300000003,
          1.5618908300000003,
          1.5618908300000003
         ],
         "y": [
          9.162206417444405e-18,
          0.8,
          1.6,
          2.4000000000000004,
          3.2,
          4,
          4.800000000000001,
          5.6000000000000005,
          6.4,
          7.2,
          8,
          8.8,
          9.600000000000001,
          10.4,
          11.200000000000001,
          12,
          12.8,
          13.600000000000001,
          14.4,
          15.200000000000001,
          16
         ],
         "z": [
          0.03489950000000005,
          0.03489950000000005,
          0.03489950000000005,
          0.03489950000000005,
          0.03489950000000005,
          0.03489950000000005,
          0.03489950000000005,
          0.03489950000000005,
          0.03489950000000005,
          0.03489950000000005,
          0.03489950000000005,
          0.03489950000000005,
          0.03489950000000005,
          0.03489950000000005,
          0.03489950000000005,
          0.03489950000000005,
          0.03489950000000005,
          0.03489950000000005,
          0.03489950000000005,
          0.03489950000000005,
          0.03489950000000005
         ]
        },
        {
         "line": {
          "color": "grey"
         },
         "mode": "lines",
         "showlegend": false,
         "type": "scatter3d",
         "x": [
          1.8117385375000004,
          1.8117385375000004,
          1.8117385375000004,
          1.8117385375000004,
          1.8117385375000004,
          1.8117385375000004,
          1.8117385375000004,
          1.8117385375000004,
          1.8117385375000004,
          1.8117385375000004,
          1.8117385375000004,
          1.8117385375000004,
          1.8117385375000004,
          1.8117385375000004,
          1.8117385375000004,
          1.8117385375000004,
          1.8117385375000004,
          1.8117385375000004,
          1.8117385375000004,
          1.8117385375000004,
          1.8117385375000004
         ],
         "y": [
          9.162206417444405e-18,
          0.8,
          1.6,
          2.4000000000000004,
          3.2,
          4,
          4.800000000000001,
          5.6000000000000005,
          6.4,
          7.2,
          8,
          8.8,
          9.600000000000001,
          10.4,
          11.200000000000001,
          12,
          12.8,
          13.600000000000001,
          14.4,
          15.200000000000001,
          16
         ],
         "z": [
          0.04362437500000005,
          0.04362437500000005,
          0.04362437500000005,
          0.04362437500000005,
          0.04362437500000005,
          0.04362437500000005,
          0.04362437500000005,
          0.04362437500000005,
          0.04362437500000005,
          0.04362437500000005,
          0.04362437500000005,
          0.04362437500000005,
          0.04362437500000005,
          0.04362437500000005,
          0.04362437500000005,
          0.04362437500000005,
          0.04362437500000005,
          0.04362437500000005,
          0.04362437500000005,
          0.04362437500000005,
          0.04362437500000005
         ]
        },
        {
         "line": {
          "color": "grey"
         },
         "mode": "lines",
         "showlegend": false,
         "type": "scatter3d",
         "x": [
          2.0615862450000004,
          2.0615862450000004,
          2.0615862450000004,
          2.0615862450000004,
          2.0615862450000004,
          2.0615862450000004,
          2.0615862450000004,
          2.0615862450000004,
          2.0615862450000004,
          2.0615862450000004,
          2.0615862450000004,
          2.0615862450000004,
          2.0615862450000004,
          2.0615862450000004,
          2.0615862450000004,
          2.0615862450000004,
          2.0615862450000004,
          2.0615862450000004,
          2.0615862450000004,
          2.0615862450000004,
          2.0615862450000004
         ],
         "y": [
          9.162206417444405e-18,
          0.8,
          1.6,
          2.4000000000000004,
          3.2,
          4,
          4.800000000000001,
          5.6000000000000005,
          6.4,
          7.2,
          8,
          8.8,
          9.600000000000001,
          10.4,
          11.200000000000001,
          12,
          12.8,
          13.600000000000001,
          14.4,
          15.200000000000001,
          16
         ],
         "z": [
          0.05234925000000005,
          0.05234925000000005,
          0.05234925000000005,
          0.05234925000000005,
          0.05234925000000005,
          0.05234925000000005,
          0.05234925000000005,
          0.05234925000000005,
          0.05234925000000005,
          0.05234925000000005,
          0.05234925000000005,
          0.05234925000000005,
          0.05234925000000005,
          0.05234925000000005,
          0.05234925000000005,
          0.05234925000000005,
          0.05234925000000005,
          0.05234925000000005,
          0.05234925000000005,
          0.05234925000000005,
          0.05234925000000005
         ]
        },
        {
         "line": {
          "color": "grey"
         },
         "mode": "lines",
         "showlegend": false,
         "type": "scatter3d",
         "x": [
          0.5625000000000001,
          0.8123477075000001,
          1.0621954150000001,
          1.3120431225000002,
          1.5618908300000003,
          1.8117385375000004,
          2.0615862450000004
         ],
         "y": [
          9.162206417444405e-18,
          9.162206417444405e-18,
          9.162206417444405e-18,
          9.162206417444405e-18,
          9.162206417444405e-18,
          9.162206417444405e-18,
          9.162206417444405e-18
         ],
         "z": [
          4.871002816324649e-17,
          0.008724875000000049,
          0.01744975000000005,
          0.02617462500000005,
          0.03489950000000005,
          0.04362437500000005,
          0.05234925000000005
         ]
        },
        {
         "line": {
          "color": "grey"
         },
         "mode": "lines",
         "showlegend": false,
         "type": "scatter3d",
         "x": [
          0.5625000000000001,
          0.8123477075000001,
          1.0621954150000001,
          1.3120431225000002,
          1.5618908300000003,
          1.8117385375000004,
          2.0615862450000004
         ],
         "y": [
          0.8,
          0.8,
          0.8,
          0.8,
          0.8,
          0.8,
          0.8
         ],
         "z": [
          4.871002816324649e-17,
          0.008724875000000049,
          0.01744975000000005,
          0.02617462500000005,
          0.03489950000000005,
          0.04362437500000005,
          0.05234925000000005
         ]
        },
        {
         "line": {
          "color": "grey"
         },
         "mode": "lines",
         "showlegend": false,
         "type": "scatter3d",
         "x": [
          0.5625000000000001,
          0.8123477075000001,
          1.0621954150000001,
          1.3120431225000002,
          1.5618908300000003,
          1.8117385375000004,
          2.0615862450000004
         ],
         "y": [
          1.6,
          1.6,
          1.6,
          1.6,
          1.6,
          1.6,
          1.6
         ],
         "z": [
          4.871002816324649e-17,
          0.008724875000000049,
          0.01744975000000005,
          0.02617462500000005,
          0.03489950000000005,
          0.04362437500000005,
          0.05234925000000005
         ]
        },
        {
         "line": {
          "color": "grey"
         },
         "mode": "lines",
         "showlegend": false,
         "type": "scatter3d",
         "x": [
          0.5625000000000001,
          0.8123477075000001,
          1.0621954150000001,
          1.3120431225000002,
          1.5618908300000003,
          1.8117385375000004,
          2.0615862450000004
         ],
         "y": [
          2.4000000000000004,
          2.4000000000000004,
          2.4000000000000004,
          2.4000000000000004,
          2.4000000000000004,
          2.4000000000000004,
          2.4000000000000004
         ],
         "z": [
          4.871002816324649e-17,
          0.008724875000000049,
          0.01744975000000005,
          0.02617462500000005,
          0.03489950000000005,
          0.04362437500000005,
          0.05234925000000005
         ]
        },
        {
         "line": {
          "color": "grey"
         },
         "mode": "lines",
         "showlegend": false,
         "type": "scatter3d",
         "x": [
          0.5625000000000001,
          0.8123477075000001,
          1.0621954150000001,
          1.3120431225000002,
          1.5618908300000003,
          1.8117385375000004,
          2.0615862450000004
         ],
         "y": [
          3.2,
          3.2,
          3.2,
          3.2,
          3.2,
          3.2,
          3.2
         ],
         "z": [
          4.871002816324649e-17,
          0.008724875000000049,
          0.01744975000000005,
          0.02617462500000005,
          0.03489950000000005,
          0.04362437500000005,
          0.05234925000000005
         ]
        },
        {
         "line": {
          "color": "grey"
         },
         "mode": "lines",
         "showlegend": false,
         "type": "scatter3d",
         "x": [
          0.5625000000000001,
          0.8123477075000001,
          1.0621954150000001,
          1.3120431225000002,
          1.5618908300000003,
          1.8117385375000004,
          2.0615862450000004
         ],
         "y": [
          4,
          4,
          4,
          4,
          4,
          4,
          4
         ],
         "z": [
          4.871002816324649e-17,
          0.008724875000000049,
          0.01744975000000005,
          0.02617462500000005,
          0.03489950000000005,
          0.04362437500000005,
          0.05234925000000005
         ]
        },
        {
         "line": {
          "color": "grey"
         },
         "mode": "lines",
         "showlegend": false,
         "type": "scatter3d",
         "x": [
          0.5625000000000001,
          0.8123477075000001,
          1.0621954150000001,
          1.3120431225000002,
          1.5618908300000003,
          1.8117385375000004,
          2.0615862450000004
         ],
         "y": [
          4.800000000000001,
          4.800000000000001,
          4.800000000000001,
          4.800000000000001,
          4.800000000000001,
          4.800000000000001,
          4.800000000000001
         ],
         "z": [
          4.871002816324649e-17,
          0.008724875000000049,
          0.01744975000000005,
          0.02617462500000005,
          0.03489950000000005,
          0.04362437500000005,
          0.05234925000000005
         ]
        },
        {
         "line": {
          "color": "grey"
         },
         "mode": "lines",
         "showlegend": false,
         "type": "scatter3d",
         "x": [
          0.5625000000000001,
          0.8123477075000001,
          1.0621954150000001,
          1.3120431225000002,
          1.5618908300000003,
          1.8117385375000004,
          2.0615862450000004
         ],
         "y": [
          5.6000000000000005,
          5.6000000000000005,
          5.6000000000000005,
          5.6000000000000005,
          5.6000000000000005,
          5.6000000000000005,
          5.6000000000000005
         ],
         "z": [
          4.871002816324649e-17,
          0.008724875000000049,
          0.01744975000000005,
          0.02617462500000005,
          0.03489950000000005,
          0.04362437500000005,
          0.05234925000000005
         ]
        },
        {
         "line": {
          "color": "grey"
         },
         "mode": "lines",
         "showlegend": false,
         "type": "scatter3d",
         "x": [
          0.5625000000000001,
          0.8123477075000001,
          1.0621954150000001,
          1.3120431225000002,
          1.5618908300000003,
          1.8117385375000004,
          2.0615862450000004
         ],
         "y": [
          6.4,
          6.4,
          6.4,
          6.4,
          6.4,
          6.4,
          6.4
         ],
         "z": [
          4.871002816324649e-17,
          0.008724875000000049,
          0.01744975000000005,
          0.02617462500000005,
          0.03489950000000005,
          0.04362437500000005,
          0.05234925000000005
         ]
        },
        {
         "line": {
          "color": "grey"
         },
         "mode": "lines",
         "showlegend": false,
         "type": "scatter3d",
         "x": [
          0.5625000000000001,
          0.8123477075000001,
          1.0621954150000001,
          1.3120431225000002,
          1.5618908300000003,
          1.8117385375000004,
          2.0615862450000004
         ],
         "y": [
          7.2,
          7.2,
          7.2,
          7.2,
          7.2,
          7.2,
          7.2
         ],
         "z": [
          4.871002816324649e-17,
          0.008724875000000049,
          0.01744975000000005,
          0.02617462500000005,
          0.03489950000000005,
          0.04362437500000005,
          0.05234925000000005
         ]
        },
        {
         "line": {
          "color": "grey"
         },
         "mode": "lines",
         "showlegend": false,
         "type": "scatter3d",
         "x": [
          0.5625000000000001,
          0.8123477075000001,
          1.0621954150000001,
          1.3120431225000002,
          1.5618908300000003,
          1.8117385375000004,
          2.0615862450000004
         ],
         "y": [
          8,
          8,
          8,
          8,
          8,
          8,
          8
         ],
         "z": [
          4.871002816324649e-17,
          0.008724875000000049,
          0.01744975000000005,
          0.02617462500000005,
          0.03489950000000005,
          0.04362437500000005,
          0.05234925000000005
         ]
        },
        {
         "line": {
          "color": "grey"
         },
         "mode": "lines",
         "showlegend": false,
         "type": "scatter3d",
         "x": [
          0.5625000000000001,
          0.8123477075000001,
          1.0621954150000001,
          1.3120431225000002,
          1.5618908300000003,
          1.8117385375000004,
          2.0615862450000004
         ],
         "y": [
          8.8,
          8.8,
          8.8,
          8.8,
          8.8,
          8.8,
          8.8
         ],
         "z": [
          4.871002816324649e-17,
          0.008724875000000049,
          0.01744975000000005,
          0.02617462500000005,
          0.03489950000000005,
          0.04362437500000005,
          0.05234925000000005
         ]
        },
        {
         "line": {
          "color": "grey"
         },
         "mode": "lines",
         "showlegend": false,
         "type": "scatter3d",
         "x": [
          0.5625000000000001,
          0.8123477075000001,
          1.0621954150000001,
          1.3120431225000002,
          1.5618908300000003,
          1.8117385375000004,
          2.0615862450000004
         ],
         "y": [
          9.600000000000001,
          9.600000000000001,
          9.600000000000001,
          9.600000000000001,
          9.600000000000001,
          9.600000000000001,
          9.600000000000001
         ],
         "z": [
          4.871002816324649e-17,
          0.008724875000000049,
          0.01744975000000005,
          0.02617462500000005,
          0.03489950000000005,
          0.04362437500000005,
          0.05234925000000005
         ]
        },
        {
         "line": {
          "color": "grey"
         },
         "mode": "lines",
         "showlegend": false,
         "type": "scatter3d",
         "x": [
          0.5625000000000001,
          0.8123477075000001,
          1.0621954150000001,
          1.3120431225000002,
          1.5618908300000003,
          1.8117385375000004,
          2.0615862450000004
         ],
         "y": [
          10.4,
          10.4,
          10.4,
          10.4,
          10.4,
          10.4,
          10.4
         ],
         "z": [
          4.871002816324649e-17,
          0.008724875000000049,
          0.01744975000000005,
          0.02617462500000005,
          0.03489950000000005,
          0.04362437500000005,
          0.05234925000000005
         ]
        },
        {
         "line": {
          "color": "grey"
         },
         "mode": "lines",
         "showlegend": false,
         "type": "scatter3d",
         "x": [
          0.5625000000000001,
          0.8123477075000001,
          1.0621954150000001,
          1.3120431225000002,
          1.5618908300000003,
          1.8117385375000004,
          2.0615862450000004
         ],
         "y": [
          11.200000000000001,
          11.200000000000001,
          11.200000000000001,
          11.200000000000001,
          11.200000000000001,
          11.200000000000001,
          11.200000000000001
         ],
         "z": [
          4.871002816324649e-17,
          0.008724875000000049,
          0.01744975000000005,
          0.02617462500000005,
          0.03489950000000005,
          0.04362437500000005,
          0.05234925000000005
         ]
        },
        {
         "line": {
          "color": "grey"
         },
         "mode": "lines",
         "showlegend": false,
         "type": "scatter3d",
         "x": [
          0.5625000000000001,
          0.8123477075000001,
          1.0621954150000001,
          1.3120431225000002,
          1.5618908300000003,
          1.8117385375000004,
          2.0615862450000004
         ],
         "y": [
          12,
          12,
          12,
          12,
          12,
          12,
          12
         ],
         "z": [
          4.871002816324649e-17,
          0.008724875000000049,
          0.01744975000000005,
          0.02617462500000005,
          0.03489950000000005,
          0.04362437500000005,
          0.05234925000000005
         ]
        },
        {
         "line": {
          "color": "grey"
         },
         "mode": "lines",
         "showlegend": false,
         "type": "scatter3d",
         "x": [
          0.5625000000000001,
          0.8123477075000001,
          1.0621954150000001,
          1.3120431225000002,
          1.5618908300000003,
          1.8117385375000004,
          2.0615862450000004
         ],
         "y": [
          12.8,
          12.8,
          12.8,
          12.8,
          12.8,
          12.8,
          12.8
         ],
         "z": [
          4.871002816324649e-17,
          0.008724875000000049,
          0.01744975000000005,
          0.02617462500000005,
          0.03489950000000005,
          0.04362437500000005,
          0.05234925000000005
         ]
        },
        {
         "line": {
          "color": "grey"
         },
         "mode": "lines",
         "showlegend": false,
         "type": "scatter3d",
         "x": [
          0.5625000000000001,
          0.8123477075000001,
          1.0621954150000001,
          1.3120431225000002,
          1.5618908300000003,
          1.8117385375000004,
          2.0615862450000004
         ],
         "y": [
          13.600000000000001,
          13.600000000000001,
          13.600000000000001,
          13.600000000000001,
          13.600000000000001,
          13.600000000000001,
          13.600000000000001
         ],
         "z": [
          4.871002816324649e-17,
          0.008724875000000049,
          0.01744975000000005,
          0.02617462500000005,
          0.03489950000000005,
          0.04362437500000005,
          0.05234925000000005
         ]
        },
        {
         "line": {
          "color": "grey"
         },
         "mode": "lines",
         "showlegend": false,
         "type": "scatter3d",
         "x": [
          0.5625000000000001,
          0.8123477075000001,
          1.0621954150000001,
          1.3120431225000002,
          1.5618908300000003,
          1.8117385375000004,
          2.0615862450000004
         ],
         "y": [
          14.4,
          14.4,
          14.4,
          14.4,
          14.4,
          14.4,
          14.4
         ],
         "z": [
          4.871002816324649e-17,
          0.008724875000000049,
          0.01744975000000005,
          0.02617462500000005,
          0.03489950000000005,
          0.04362437500000005,
          0.05234925000000005
         ]
        },
        {
         "line": {
          "color": "grey"
         },
         "mode": "lines",
         "showlegend": false,
         "type": "scatter3d",
         "x": [
          0.5625000000000001,
          0.8123477075000001,
          1.0621954150000001,
          1.3120431225000002,
          1.5618908300000003,
          1.8117385375000004,
          2.0615862450000004
         ],
         "y": [
          15.200000000000001,
          15.200000000000001,
          15.200000000000001,
          15.200000000000001,
          15.200000000000001,
          15.200000000000001,
          15.200000000000001
         ],
         "z": [
          4.871002816324649e-17,
          0.008724875000000049,
          0.01744975000000005,
          0.02617462500000005,
          0.03489950000000005,
          0.04362437500000005,
          0.05234925000000005
         ]
        },
        {
         "line": {
          "color": "grey"
         },
         "mode": "lines",
         "showlegend": false,
         "type": "scatter3d",
         "x": [
          0.5625000000000001,
          0.8123477075000001,
          1.0621954150000001,
          1.3120431225000002,
          1.5618908300000003,
          1.8117385375000004,
          2.0615862450000004
         ],
         "y": [
          16,
          16,
          16,
          16,
          16,
          16,
          16
         ],
         "z": [
          4.871002816324649e-17,
          0.008724875000000049,
          0.01744975000000005,
          0.02617462500000005,
          0.03489950000000005,
          0.04362437500000005,
          0.05234925000000005
         ]
        },
        {
         "line": {
          "color": "lightskyblue"
         },
         "mode": "lines",
         "name": "Aero wake",
         "surfaceaxis": 2,
         "type": "scatter3d",
         "x": [
          0.5625000000000001,
          2.0615862450000004,
          2.0615862450000004,
          0.5625000000000001,
          0.5625000000000001
         ],
         "y": [
          9.162206417444405e-18,
          9.162206417444405e-18,
          16,
          16,
          9.162206417444405e-18
         ],
         "z": [
          4.871002816324649e-17,
          0.05234925000000005,
          0.05234925000000005,
          4.871002816324649e-17,
          4.871002816324649e-17
         ]
        }
       ],
       "layout": {
        "template": {
         "data": {
          "bar": [
           {
            "error_x": {
             "color": "#2a3f5f"
            },
            "error_y": {
             "color": "#2a3f5f"
            },
            "marker": {
             "line": {
              "color": "#E5ECF6",
              "width": 0.5
             }
            },
            "type": "bar"
           }
          ],
          "barpolar": [
           {
            "marker": {
             "line": {
              "color": "#E5ECF6",
              "width": 0.5
             }
            },
            "type": "barpolar"
           }
          ],
          "carpet": [
           {
            "aaxis": {
             "endlinecolor": "#2a3f5f",
             "gridcolor": "white",
             "linecolor": "white",
             "minorgridcolor": "white",
             "startlinecolor": "#2a3f5f"
            },
            "baxis": {
             "endlinecolor": "#2a3f5f",
             "gridcolor": "white",
             "linecolor": "white",
             "minorgridcolor": "white",
             "startlinecolor": "#2a3f5f"
            },
            "type": "carpet"
           }
          ],
          "choropleth": [
           {
            "colorbar": {
             "outlinewidth": 0,
             "ticks": ""
            },
            "type": "choropleth"
           }
          ],
          "contour": [
           {
            "colorbar": {
             "outlinewidth": 0,
             "ticks": ""
            },
            "colorscale": [
             [
              0,
              "#0d0887"
             ],
             [
              0.1111111111111111,
              "#46039f"
             ],
             [
              0.2222222222222222,
              "#7201a8"
             ],
             [
              0.3333333333333333,
              "#9c179e"
             ],
             [
              0.4444444444444444,
              "#bd3786"
             ],
             [
              0.5555555555555556,
              "#d8576b"
             ],
             [
              0.6666666666666666,
              "#ed7953"
             ],
             [
              0.7777777777777778,
              "#fb9f3a"
             ],
             [
              0.8888888888888888,
              "#fdca26"
             ],
             [
              1,
              "#f0f921"
             ]
            ],
            "type": "contour"
           }
          ],
          "contourcarpet": [
           {
            "colorbar": {
             "outlinewidth": 0,
             "ticks": ""
            },
            "type": "contourcarpet"
           }
          ],
          "heatmap": [
           {
            "colorbar": {
             "outlinewidth": 0,
             "ticks": ""
            },
            "colorscale": [
             [
              0,
              "#0d0887"
             ],
             [
              0.1111111111111111,
              "#46039f"
             ],
             [
              0.2222222222222222,
              "#7201a8"
             ],
             [
              0.3333333333333333,
              "#9c179e"
             ],
             [
              0.4444444444444444,
              "#bd3786"
             ],
             [
              0.5555555555555556,
              "#d8576b"
             ],
             [
              0.6666666666666666,
              "#ed7953"
             ],
             [
              0.7777777777777778,
              "#fb9f3a"
             ],
             [
              0.8888888888888888,
              "#fdca26"
             ],
             [
              1,
              "#f0f921"
             ]
            ],
            "type": "heatmap"
           }
          ],
          "heatmapgl": [
           {
            "colorbar": {
             "outlinewidth": 0,
             "ticks": ""
            },
            "colorscale": [
             [
              0,
              "#0d0887"
             ],
             [
              0.1111111111111111,
              "#46039f"
             ],
             [
              0.2222222222222222,
              "#7201a8"
             ],
             [
              0.3333333333333333,
              "#9c179e"
             ],
             [
              0.4444444444444444,
              "#bd3786"
             ],
             [
              0.5555555555555556,
              "#d8576b"
             ],
             [
              0.6666666666666666,
              "#ed7953"
             ],
             [
              0.7777777777777778,
              "#fb9f3a"
             ],
             [
              0.8888888888888888,
              "#fdca26"
             ],
             [
              1,
              "#f0f921"
             ]
            ],
            "type": "heatmapgl"
           }
          ],
          "histogram": [
           {
            "marker": {
             "colorbar": {
              "outlinewidth": 0,
              "ticks": ""
             }
            },
            "type": "histogram"
           }
          ],
          "histogram2d": [
           {
            "colorbar": {
             "outlinewidth": 0,
             "ticks": ""
            },
            "colorscale": [
             [
              0,
              "#0d0887"
             ],
             [
              0.1111111111111111,
              "#46039f"
             ],
             [
              0.2222222222222222,
              "#7201a8"
             ],
             [
              0.3333333333333333,
              "#9c179e"
             ],
             [
              0.4444444444444444,
              "#bd3786"
             ],
             [
              0.5555555555555556,
              "#d8576b"
             ],
             [
              0.6666666666666666,
              "#ed7953"
             ],
             [
              0.7777777777777778,
              "#fb9f3a"
             ],
             [
              0.8888888888888888,
              "#fdca26"
             ],
             [
              1,
              "#f0f921"
             ]
            ],
            "type": "histogram2d"
           }
          ],
          "histogram2dcontour": [
           {
            "colorbar": {
             "outlinewidth": 0,
             "ticks": ""
            },
            "colorscale": [
             [
              0,
              "#0d0887"
             ],
             [
              0.1111111111111111,
              "#46039f"
             ],
             [
              0.2222222222222222,
              "#7201a8"
             ],
             [
              0.3333333333333333,
              "#9c179e"
             ],
             [
              0.4444444444444444,
              "#bd3786"
             ],
             [
              0.5555555555555556,
              "#d8576b"
             ],
             [
              0.6666666666666666,
              "#ed7953"
             ],
             [
              0.7777777777777778,
              "#fb9f3a"
             ],
             [
              0.8888888888888888,
              "#fdca26"
             ],
             [
              1,
              "#f0f921"
             ]
            ],
            "type": "histogram2dcontour"
           }
          ],
          "mesh3d": [
           {
            "colorbar": {
             "outlinewidth": 0,
             "ticks": ""
            },
            "type": "mesh3d"
           }
          ],
          "parcoords": [
           {
            "line": {
             "colorbar": {
              "outlinewidth": 0,
              "ticks": ""
             }
            },
            "type": "parcoords"
           }
          ],
          "pie": [
           {
            "automargin": true,
            "type": "pie"
           }
          ],
          "scatter": [
           {
            "marker": {
             "colorbar": {
              "outlinewidth": 0,
              "ticks": ""
             }
            },
            "type": "scatter"
           }
          ],
          "scatter3d": [
           {
            "line": {
             "colorbar": {
              "outlinewidth": 0,
              "ticks": ""
             }
            },
            "marker": {
             "colorbar": {
              "outlinewidth": 0,
              "ticks": ""
             }
            },
            "type": "scatter3d"
           }
          ],
          "scattercarpet": [
           {
            "marker": {
             "colorbar": {
              "outlinewidth": 0,
              "ticks": ""
             }
            },
            "type": "scattercarpet"
           }
          ],
          "scattergeo": [
           {
            "marker": {
             "colorbar": {
              "outlinewidth": 0,
              "ticks": ""
             }
            },
            "type": "scattergeo"
           }
          ],
          "scattergl": [
           {
            "marker": {
             "colorbar": {
              "outlinewidth": 0,
              "ticks": ""
             }
            },
            "type": "scattergl"
           }
          ],
          "scattermapbox": [
           {
            "marker": {
             "colorbar": {
              "outlinewidth": 0,
              "ticks": ""
             }
            },
            "type": "scattermapbox"
           }
          ],
          "scatterpolar": [
           {
            "marker": {
             "colorbar": {
              "outlinewidth": 0,
              "ticks": ""
             }
            },
            "type": "scatterpolar"
           }
          ],
          "scatterpolargl": [
           {
            "marker": {
             "colorbar": {
              "outlinewidth": 0,
              "ticks": ""
             }
            },
            "type": "scatterpolargl"
           }
          ],
          "scatterternary": [
           {
            "marker": {
             "colorbar": {
              "outlinewidth": 0,
              "ticks": ""
             }
            },
            "type": "scatterternary"
           }
          ],
          "surface": [
           {
            "colorbar": {
             "outlinewidth": 0,
             "ticks": ""
            },
            "colorscale": [
             [
              0,
              "#0d0887"
             ],
             [
              0.1111111111111111,
              "#46039f"
             ],
             [
              0.2222222222222222,
              "#7201a8"
             ],
             [
              0.3333333333333333,
              "#9c179e"
             ],
             [
              0.4444444444444444,
              "#bd3786"
             ],
             [
              0.5555555555555556,
              "#d8576b"
             ],
             [
              0.6666666666666666,
              "#ed7953"
             ],
             [
              0.7777777777777778,
              "#fb9f3a"
             ],
             [
              0.8888888888888888,
              "#fdca26"
             ],
             [
              1,
              "#f0f921"
             ]
            ],
            "type": "surface"
           }
          ],
          "table": [
           {
            "cells": {
             "fill": {
              "color": "#EBF0F8"
             },
             "line": {
              "color": "white"
             }
            },
            "header": {
             "fill": {
              "color": "#C8D4E3"
             },
             "line": {
              "color": "white"
             }
            },
            "type": "table"
           }
          ]
         },
         "layout": {
          "annotationdefaults": {
           "arrowcolor": "#2a3f5f",
           "arrowhead": 0,
           "arrowwidth": 1
          },
          "coloraxis": {
           "colorbar": {
            "outlinewidth": 0,
            "ticks": ""
           }
          },
          "colorscale": {
           "diverging": [
            [
             0,
             "#8e0152"
            ],
            [
             0.1,
             "#c51b7d"
            ],
            [
             0.2,
             "#de77ae"
            ],
            [
             0.3,
             "#f1b6da"
            ],
            [
             0.4,
             "#fde0ef"
            ],
            [
             0.5,
             "#f7f7f7"
            ],
            [
             0.6,
             "#e6f5d0"
            ],
            [
             0.7,
             "#b8e186"
            ],
            [
             0.8,
             "#7fbc41"
            ],
            [
             0.9,
             "#4d9221"
            ],
            [
             1,
             "#276419"
            ]
           ],
           "sequential": [
            [
             0,
             "#0d0887"
            ],
            [
             0.1111111111111111,
             "#46039f"
            ],
            [
             0.2222222222222222,
             "#7201a8"
            ],
            [
             0.3333333333333333,
             "#9c179e"
            ],
            [
             0.4444444444444444,
             "#bd3786"
            ],
            [
             0.5555555555555556,
             "#d8576b"
            ],
            [
             0.6666666666666666,
             "#ed7953"
            ],
            [
             0.7777777777777778,
             "#fb9f3a"
            ],
            [
             0.8888888888888888,
             "#fdca26"
            ],
            [
             1,
             "#f0f921"
            ]
           ],
           "sequentialminus": [
            [
             0,
             "#0d0887"
            ],
            [
             0.1111111111111111,
             "#46039f"
            ],
            [
             0.2222222222222222,
             "#7201a8"
            ],
            [
             0.3333333333333333,
             "#9c179e"
            ],
            [
             0.4444444444444444,
             "#bd3786"
            ],
            [
             0.5555555555555556,
             "#d8576b"
            ],
            [
             0.6666666666666666,
             "#ed7953"
            ],
            [
             0.7777777777777778,
             "#fb9f3a"
            ],
            [
             0.8888888888888888,
             "#fdca26"
            ],
            [
             1,
             "#f0f921"
            ]
           ]
          },
          "colorway": [
           "#636efa",
           "#EF553B",
           "#00cc96",
           "#ab63fa",
           "#FFA15A",
           "#19d3f3",
           "#FF6692",
           "#B6E880",
           "#FF97FF",
           "#FECB52"
          ],
          "font": {
           "color": "#2a3f5f"
          },
          "geo": {
           "bgcolor": "white",
           "lakecolor": "white",
           "landcolor": "#E5ECF6",
           "showlakes": true,
           "showland": true,
           "subunitcolor": "white"
          },
          "hoverlabel": {
           "align": "left"
          },
          "hovermode": "closest",
          "mapbox": {
           "style": "light"
          },
          "paper_bgcolor": "white",
          "plot_bgcolor": "#E5ECF6",
          "polar": {
           "angularaxis": {
            "gridcolor": "white",
            "linecolor": "white",
            "ticks": ""
           },
           "bgcolor": "#E5ECF6",
           "radialaxis": {
            "gridcolor": "white",
            "linecolor": "white",
            "ticks": ""
           }
          },
          "scene": {
           "xaxis": {
            "backgroundcolor": "#E5ECF6",
            "gridcolor": "white",
            "gridwidth": 2,
            "linecolor": "white",
            "showbackground": true,
            "ticks": "",
            "zerolinecolor": "white"
           },
           "yaxis": {
            "backgroundcolor": "#E5ECF6",
            "gridcolor": "white",
            "gridwidth": 2,
            "linecolor": "white",
            "showbackground": true,
            "ticks": "",
            "zerolinecolor": "white"
           },
           "zaxis": {
            "backgroundcolor": "#E5ECF6",
            "gridcolor": "white",
            "gridwidth": 2,
            "linecolor": "white",
            "showbackground": true,
            "ticks": "",
            "zerolinecolor": "white"
           }
          },
          "shapedefaults": {
           "line": {
            "color": "#2a3f5f"
           }
          },
          "ternary": {
           "aaxis": {
            "gridcolor": "white",
            "linecolor": "white",
            "ticks": ""
           },
           "baxis": {
            "gridcolor": "white",
            "linecolor": "white",
            "ticks": ""
           },
           "bgcolor": "#E5ECF6",
           "caxis": {
            "gridcolor": "white",
            "linecolor": "white",
            "ticks": ""
           }
          },
          "title": {
           "x": 0.05
          },
          "xaxis": {
           "automargin": true,
           "gridcolor": "white",
           "linecolor": "white",
           "ticks": "",
           "title": {
            "standoff": 15
           },
           "zerolinecolor": "white",
           "zerolinewidth": 2
          },
          "yaxis": {
           "automargin": true,
           "gridcolor": "white",
           "linecolor": "white",
           "ticks": "",
           "title": {
            "standoff": 15
           },
           "zerolinecolor": "white",
           "zerolinewidth": 2
          }
         }
        }
       }
      },
      "text/html": [
       "<div>\n",
       "        \n",
       "        \n",
       "            <div id=\"ee46d836-d866-4b72-9e2b-f89ce653e305\" class=\"plotly-graph-div\" style=\"height:525px; width:100%;\"></div>\n",
       "            <script type=\"text/javascript\">\n",
       "                require([\"plotly\"], function(Plotly) {\n",
       "                    window.PLOTLYENV=window.PLOTLYENV || {};\n",
       "                    \n",
       "                if (document.getElementById(\"ee46d836-d866-4b72-9e2b-f89ce653e305\")) {\n",
       "                    Plotly.newPlot(\n",
       "                        'ee46d836-d866-4b72-9e2b-f89ce653e305',\n",
       "                        [{\"line\": {\"color\": \"blue\", \"width\": 4}, \"marker\": {\"color\": \"blue\", \"size\": 2}, \"name\": \"Beam nodes\", \"type\": \"scatter3d\", \"x\": [0.0, 0.0, 0.0], \"y\": [0.0, 0.8, 1.6], \"z\": [0.0, 0.0, 0.0]}, {\"line\": {\"color\": \"blue\", \"width\": 4}, \"marker\": {\"color\": \"blue\", \"size\": 2}, \"showlegend\": false, \"type\": \"scatter3d\", \"x\": [0.0, 0.0, 0.0], \"y\": [1.6, 2.4000000000000004, 3.2], \"z\": [0.0, 0.0, 0.0]}, {\"line\": {\"color\": \"blue\", \"width\": 4}, \"marker\": {\"color\": \"blue\", \"size\": 2}, \"showlegend\": false, \"type\": \"scatter3d\", \"x\": [0.0, 0.0, 0.0], \"y\": [3.2, 4.0, 4.800000000000001], \"z\": [0.0, 0.0, 0.0]}, {\"line\": {\"color\": \"blue\", \"width\": 4}, \"marker\": {\"color\": \"blue\", \"size\": 2}, \"showlegend\": false, \"type\": \"scatter3d\", \"x\": [0.0, 0.0, 0.0], \"y\": [4.800000000000001, 5.6000000000000005, 6.4], \"z\": [0.0, 0.0, 0.0]}, {\"line\": {\"color\": \"blue\", \"width\": 4}, \"marker\": {\"color\": \"blue\", \"size\": 2}, \"showlegend\": false, \"type\": \"scatter3d\", \"x\": [0.0, 0.0, 0.0], \"y\": [6.4, 7.2, 8.0], \"z\": [0.0, 0.0, 0.0]}, {\"line\": {\"color\": \"blue\", \"width\": 4}, \"marker\": {\"color\": \"blue\", \"size\": 2}, \"showlegend\": false, \"type\": \"scatter3d\", \"x\": [0.0, 0.0, 0.0], \"y\": [8.0, 8.8, 9.600000000000001], \"z\": [0.0, 0.0, 0.0]}, {\"line\": {\"color\": \"blue\", \"width\": 4}, \"marker\": {\"color\": \"blue\", \"size\": 2}, \"showlegend\": false, \"type\": \"scatter3d\", \"x\": [0.0, 0.0, 0.0], \"y\": [9.600000000000001, 10.4, 11.200000000000001], \"z\": [0.0, 0.0, 0.0]}, {\"line\": {\"color\": \"blue\", \"width\": 4}, \"marker\": {\"color\": \"blue\", \"size\": 2}, \"showlegend\": false, \"type\": \"scatter3d\", \"x\": [0.0, 0.0, 0.0], \"y\": [11.200000000000001, 12.0, 12.8], \"z\": [0.0, 0.0, 0.0]}, {\"line\": {\"color\": \"blue\", \"width\": 4}, \"marker\": {\"color\": \"blue\", \"size\": 2}, \"showlegend\": false, \"type\": \"scatter3d\", \"x\": [0.0, 0.0, 0.0], \"y\": [12.8, 13.600000000000001, 14.4], \"z\": [0.0, 0.0, 0.0]}, {\"line\": {\"color\": \"blue\", \"width\": 4}, \"marker\": {\"color\": \"blue\", \"size\": 2}, \"showlegend\": false, \"type\": \"scatter3d\", \"x\": [0.0, 0.0, 0.0], \"y\": [14.4, 15.200000000000001, 16.0], \"z\": [0.0, 0.0, 0.0]}, {\"line\": {\"color\": \"black\"}, \"mode\": \"lines\", \"showlegend\": false, \"type\": \"scatter3d\", \"x\": [-0.4375000000000001, -0.4375000000000001, -0.4375000000000001, -0.4375000000000001, -0.4375000000000001, -0.4375000000000001, -0.4375000000000001, -0.4375000000000001, -0.4375000000000001, -0.4375000000000001, -0.4375000000000001, -0.4375000000000001, -0.4375000000000001, -0.4375000000000001, -0.4375000000000001, -0.4375000000000001, -0.4375000000000001, -0.4375000000000001, -0.4375000000000001, -0.4375000000000001, -0.4375000000000001], \"y\": [-7.126160546901204e-18, 0.8, 1.6, 2.4000000000000004, 3.2, 4.0, 4.800000000000001, 5.6000000000000005, 6.4, 7.2, 8.0, 8.8, 9.600000000000001, 10.4, 11.200000000000001, 12.0, 12.8, 13.600000000000001, 14.4, 15.200000000000001, 16.0], \"z\": [-3.7885577460302824e-17, -3.7885577460302824e-17, -3.7885577460302824e-17, -3.7885577460302824e-17, -3.7885577460302824e-17, -3.7885577460302824e-17, -3.7885577460302824e-17, -3.7885577460302824e-17, -3.7885577460302824e-17, -3.7885577460302824e-17, -3.7885577460302824e-17, -3.7885577460302824e-17, -3.7885577460302824e-17, -3.7885577460302824e-17, -3.7885577460302824e-17, -3.7885577460302824e-17, -3.7885577460302824e-17, -3.7885577460302824e-17, -3.7885577460302824e-17, -3.7885577460302824e-17, -3.7885577460302824e-17]}, {\"line\": {\"color\": \"black\"}, \"mode\": \"lines\", \"showlegend\": false, \"type\": \"scatter3d\", \"x\": [-0.18750000000000006, -0.18750000000000006, -0.18750000000000006, -0.18750000000000006, -0.18750000000000006, -0.18750000000000006, -0.18750000000000006, -0.18750000000000006, -0.18750000000000006, -0.18750000000000006, -0.18750000000000006, -0.18750000000000006, -0.18750000000000006, -0.18750000000000006, -0.18750000000000006, -0.18750000000000006, -0.18750000000000006, -0.18750000000000006, -0.18750000000000006, -0.18750000000000006, -0.18750000000000006], \"y\": [-3.054068805814802e-18, 0.8, 1.6, 2.4000000000000004, 3.2, 4.0, 4.800000000000001, 5.6000000000000005, 6.4, 7.2, 8.0, 8.8, 9.600000000000001, 10.4, 11.200000000000001, 12.0, 12.8, 13.600000000000001, 14.4, 15.200000000000001, 16.0], \"z\": [-1.6236676054415498e-17, -1.6236676054415498e-17, -1.6236676054415498e-17, -1.6236676054415498e-17, -1.6236676054415498e-17, -1.6236676054415498e-17, -1.6236676054415498e-17, -1.6236676054415498e-17, -1.6236676054415498e-17, -1.6236676054415498e-17, -1.6236676054415498e-17, -1.6236676054415498e-17, -1.6236676054415498e-17, -1.6236676054415498e-17, -1.6236676054415498e-17, -1.6236676054415498e-17, -1.6236676054415498e-17, -1.6236676054415498e-17, -1.6236676054415498e-17, -1.6236676054415498e-17, -1.6236676054415498e-17]}, {\"line\": {\"color\": \"black\"}, \"mode\": \"lines\", \"showlegend\": false, \"type\": \"scatter3d\", \"x\": [0.06250000000000001, 0.06250000000000001, 0.06250000000000001, 0.06250000000000001, 0.06250000000000001, 0.06250000000000001, 0.06250000000000001, 0.06250000000000001, 0.06250000000000001, 0.06250000000000001, 0.06250000000000001, 0.06250000000000001, 0.06250000000000001, 0.06250000000000001, 0.06250000000000001, 0.06250000000000001, 0.06250000000000001, 0.06250000000000001, 0.06250000000000001, 0.06250000000000001, 0.06250000000000001], \"y\": [1.0180229352716006e-18, 0.8, 1.6, 2.4000000000000004, 3.2, 4.0, 4.800000000000001, 5.6000000000000005, 6.4, 7.2, 8.0, 8.8, 9.600000000000001, 10.4, 11.200000000000001, 12.0, 12.8, 13.600000000000001, 14.4, 15.200000000000001, 16.0], \"z\": [5.412225351471832e-18, 5.412225351471832e-18, 5.412225351471832e-18, 5.412225351471832e-18, 5.412225351471832e-18, 5.412225351471832e-18, 5.412225351471832e-18, 5.412225351471832e-18, 5.412225351471832e-18, 5.412225351471832e-18, 5.412225351471832e-18, 5.412225351471832e-18, 5.412225351471832e-18, 5.412225351471832e-18, 5.412225351471832e-18, 5.412225351471832e-18, 5.412225351471832e-18, 5.412225351471832e-18, 5.412225351471832e-18, 5.412225351471832e-18, 5.412225351471832e-18]}, {\"line\": {\"color\": \"black\"}, \"mode\": \"lines\", \"showlegend\": false, \"type\": \"scatter3d\", \"x\": [0.31250000000000006, 0.31250000000000006, 0.31250000000000006, 0.31250000000000006, 0.31250000000000006, 0.31250000000000006, 0.31250000000000006, 0.31250000000000006, 0.31250000000000006, 0.31250000000000006, 0.31250000000000006, 0.31250000000000006, 0.31250000000000006, 0.31250000000000006, 0.31250000000000006, 0.31250000000000006, 0.31250000000000006, 0.31250000000000006, 0.31250000000000006, 0.31250000000000006, 0.31250000000000006], \"y\": [5.090114676358003e-18, 0.8, 1.6, 2.4000000000000004, 3.2, 4.0, 4.800000000000001, 5.6000000000000005, 6.4, 7.2, 8.0, 8.8, 9.600000000000001, 10.4, 11.200000000000001, 12.0, 12.8, 13.600000000000001, 14.4, 15.200000000000001, 16.0], \"z\": [2.706112675735916e-17, 2.706112675735916e-17, 2.706112675735916e-17, 2.706112675735916e-17, 2.706112675735916e-17, 2.706112675735916e-17, 2.706112675735916e-17, 2.706112675735916e-17, 2.706112675735916e-17, 2.706112675735916e-17, 2.706112675735916e-17, 2.706112675735916e-17, 2.706112675735916e-17, 2.706112675735916e-17, 2.706112675735916e-17, 2.706112675735916e-17, 2.706112675735916e-17, 2.706112675735916e-17, 2.706112675735916e-17, 2.706112675735916e-17, 2.706112675735916e-17]}, {\"line\": {\"color\": \"black\"}, \"mode\": \"lines\", \"showlegend\": false, \"type\": \"scatter3d\", \"x\": [0.5625000000000001, 0.5625000000000001, 0.5625000000000001, 0.5625000000000001, 0.5625000000000001, 0.5625000000000001, 0.5625000000000001, 0.5625000000000001, 0.5625000000000001, 0.5625000000000001, 0.5625000000000001, 0.5625000000000001, 0.5625000000000001, 0.5625000000000001, 0.5625000000000001, 0.5625000000000001, 0.5625000000000001, 0.5625000000000001, 0.5625000000000001, 0.5625000000000001, 0.5625000000000001], \"y\": [9.162206417444405e-18, 0.8, 1.6, 2.4000000000000004, 3.2, 4.0, 4.800000000000001, 5.6000000000000005, 6.4, 7.2, 8.0, 8.8, 9.600000000000001, 10.4, 11.200000000000001, 12.0, 12.8, 13.600000000000001, 14.4, 15.200000000000001, 16.0], \"z\": [4.871002816324649e-17, 4.871002816324649e-17, 4.871002816324649e-17, 4.871002816324649e-17, 4.871002816324649e-17, 4.871002816324649e-17, 4.871002816324649e-17, 4.871002816324649e-17, 4.871002816324649e-17, 4.871002816324649e-17, 4.871002816324649e-17, 4.871002816324649e-17, 4.871002816324649e-17, 4.871002816324649e-17, 4.871002816324649e-17, 4.871002816324649e-17, 4.871002816324649e-17, 4.871002816324649e-17, 4.871002816324649e-17, 4.871002816324649e-17, 4.871002816324649e-17]}, {\"line\": {\"color\": \"black\"}, \"mode\": \"lines\", \"showlegend\": false, \"type\": \"scatter3d\", \"x\": [-0.4375000000000001, -0.18750000000000006, 0.06250000000000001, 0.31250000000000006, 0.5625000000000001], \"y\": [-7.126160546901204e-18, -3.054068805814802e-18, 1.0180229352716006e-18, 5.090114676358003e-18, 9.162206417444405e-18], \"z\": [-3.7885577460302824e-17, -1.6236676054415498e-17, 5.412225351471832e-18, 2.706112675735916e-17, 4.871002816324649e-17]}, {\"line\": {\"color\": \"black\"}, \"mode\": \"lines\", \"showlegend\": false, \"type\": \"scatter3d\", \"x\": [-0.4375000000000001, -0.18750000000000006, 0.06250000000000001, 0.31250000000000006, 0.5625000000000001], \"y\": [0.8, 0.8, 0.8, 0.8, 0.8], \"z\": [-3.7885577460302824e-17, -1.6236676054415498e-17, 5.412225351471832e-18, 2.706112675735916e-17, 4.871002816324649e-17]}, {\"line\": {\"color\": \"black\"}, \"mode\": \"lines\", \"showlegend\": false, \"type\": \"scatter3d\", \"x\": [-0.4375000000000001, -0.18750000000000006, 0.06250000000000001, 0.31250000000000006, 0.5625000000000001], \"y\": [1.6, 1.6, 1.6, 1.6, 1.6], \"z\": [-3.7885577460302824e-17, -1.6236676054415498e-17, 5.412225351471832e-18, 2.706112675735916e-17, 4.871002816324649e-17]}, {\"line\": {\"color\": \"black\"}, \"mode\": \"lines\", \"showlegend\": false, \"type\": \"scatter3d\", \"x\": [-0.4375000000000001, -0.18750000000000006, 0.06250000000000001, 0.31250000000000006, 0.5625000000000001], \"y\": [2.4000000000000004, 2.4000000000000004, 2.4000000000000004, 2.4000000000000004, 2.4000000000000004], \"z\": [-3.7885577460302824e-17, -1.6236676054415498e-17, 5.412225351471832e-18, 2.706112675735916e-17, 4.871002816324649e-17]}, {\"line\": {\"color\": \"black\"}, \"mode\": \"lines\", \"showlegend\": false, \"type\": \"scatter3d\", \"x\": [-0.4375000000000001, -0.18750000000000006, 0.06250000000000001, 0.31250000000000006, 0.5625000000000001], \"y\": [3.2, 3.2, 3.2, 3.2, 3.2], \"z\": [-3.7885577460302824e-17, -1.6236676054415498e-17, 5.412225351471832e-18, 2.706112675735916e-17, 4.871002816324649e-17]}, {\"line\": {\"color\": \"black\"}, \"mode\": \"lines\", \"showlegend\": false, \"type\": \"scatter3d\", \"x\": [-0.4375000000000001, -0.18750000000000006, 0.06250000000000001, 0.31250000000000006, 0.5625000000000001], \"y\": [4.0, 4.0, 4.0, 4.0, 4.0], \"z\": [-3.7885577460302824e-17, -1.6236676054415498e-17, 5.412225351471832e-18, 2.706112675735916e-17, 4.871002816324649e-17]}, {\"line\": {\"color\": \"black\"}, \"mode\": \"lines\", \"showlegend\": false, \"type\": \"scatter3d\", \"x\": [-0.4375000000000001, -0.18750000000000006, 0.06250000000000001, 0.31250000000000006, 0.5625000000000001], \"y\": [4.800000000000001, 4.800000000000001, 4.800000000000001, 4.800000000000001, 4.800000000000001], \"z\": [-3.7885577460302824e-17, -1.6236676054415498e-17, 5.412225351471832e-18, 2.706112675735916e-17, 4.871002816324649e-17]}, {\"line\": {\"color\": \"black\"}, \"mode\": \"lines\", \"showlegend\": false, \"type\": \"scatter3d\", \"x\": [-0.4375000000000001, -0.18750000000000006, 0.06250000000000001, 0.31250000000000006, 0.5625000000000001], \"y\": [5.6000000000000005, 5.6000000000000005, 5.6000000000000005, 5.6000000000000005, 5.6000000000000005], \"z\": [-3.7885577460302824e-17, -1.6236676054415498e-17, 5.412225351471832e-18, 2.706112675735916e-17, 4.871002816324649e-17]}, {\"line\": {\"color\": \"black\"}, \"mode\": \"lines\", \"showlegend\": false, \"type\": \"scatter3d\", \"x\": [-0.4375000000000001, -0.18750000000000006, 0.06250000000000001, 0.31250000000000006, 0.5625000000000001], \"y\": [6.4, 6.4, 6.4, 6.4, 6.4], \"z\": [-3.7885577460302824e-17, -1.6236676054415498e-17, 5.412225351471832e-18, 2.706112675735916e-17, 4.871002816324649e-17]}, {\"line\": {\"color\": \"black\"}, \"mode\": \"lines\", \"showlegend\": false, \"type\": \"scatter3d\", \"x\": [-0.4375000000000001, -0.18750000000000006, 0.06250000000000001, 0.31250000000000006, 0.5625000000000001], \"y\": [7.2, 7.2, 7.2, 7.2, 7.2], \"z\": [-3.7885577460302824e-17, -1.6236676054415498e-17, 5.412225351471832e-18, 2.706112675735916e-17, 4.871002816324649e-17]}, {\"line\": {\"color\": \"black\"}, \"mode\": \"lines\", \"showlegend\": false, \"type\": \"scatter3d\", \"x\": [-0.4375000000000001, -0.18750000000000006, 0.06250000000000001, 0.31250000000000006, 0.5625000000000001], \"y\": [8.0, 8.0, 8.0, 8.0, 8.0], \"z\": [-3.7885577460302824e-17, -1.6236676054415498e-17, 5.412225351471832e-18, 2.706112675735916e-17, 4.871002816324649e-17]}, {\"line\": {\"color\": \"black\"}, \"mode\": \"lines\", \"showlegend\": false, \"type\": \"scatter3d\", \"x\": [-0.4375000000000001, -0.18750000000000006, 0.06250000000000001, 0.31250000000000006, 0.5625000000000001], \"y\": [8.8, 8.8, 8.8, 8.8, 8.8], \"z\": [-3.7885577460302824e-17, -1.6236676054415498e-17, 5.412225351471832e-18, 2.706112675735916e-17, 4.871002816324649e-17]}, {\"line\": {\"color\": \"black\"}, \"mode\": \"lines\", \"showlegend\": false, \"type\": \"scatter3d\", \"x\": [-0.4375000000000001, -0.18750000000000006, 0.06250000000000001, 0.31250000000000006, 0.5625000000000001], \"y\": [9.600000000000001, 9.600000000000001, 9.600000000000001, 9.600000000000001, 9.600000000000001], \"z\": [-3.7885577460302824e-17, -1.6236676054415498e-17, 5.412225351471832e-18, 2.706112675735916e-17, 4.871002816324649e-17]}, {\"line\": {\"color\": \"black\"}, \"mode\": \"lines\", \"showlegend\": false, \"type\": \"scatter3d\", \"x\": [-0.4375000000000001, -0.18750000000000006, 0.06250000000000001, 0.31250000000000006, 0.5625000000000001], \"y\": [10.4, 10.4, 10.4, 10.4, 10.4], \"z\": [-3.7885577460302824e-17, -1.6236676054415498e-17, 5.412225351471832e-18, 2.706112675735916e-17, 4.871002816324649e-17]}, {\"line\": {\"color\": \"black\"}, \"mode\": \"lines\", \"showlegend\": false, \"type\": \"scatter3d\", \"x\": [-0.4375000000000001, -0.18750000000000006, 0.06250000000000001, 0.31250000000000006, 0.5625000000000001], \"y\": [11.200000000000001, 11.200000000000001, 11.200000000000001, 11.200000000000001, 11.200000000000001], \"z\": [-3.7885577460302824e-17, -1.6236676054415498e-17, 5.412225351471832e-18, 2.706112675735916e-17, 4.871002816324649e-17]}, {\"line\": {\"color\": \"black\"}, \"mode\": \"lines\", \"showlegend\": false, \"type\": \"scatter3d\", \"x\": [-0.4375000000000001, -0.18750000000000006, 0.06250000000000001, 0.31250000000000006, 0.5625000000000001], \"y\": [12.0, 12.0, 12.0, 12.0, 12.0], \"z\": [-3.7885577460302824e-17, -1.6236676054415498e-17, 5.412225351471832e-18, 2.706112675735916e-17, 4.871002816324649e-17]}, {\"line\": {\"color\": \"black\"}, \"mode\": \"lines\", \"showlegend\": false, \"type\": \"scatter3d\", \"x\": [-0.4375000000000001, -0.18750000000000006, 0.06250000000000001, 0.31250000000000006, 0.5625000000000001], \"y\": [12.8, 12.8, 12.8, 12.8, 12.8], \"z\": [-3.7885577460302824e-17, -1.6236676054415498e-17, 5.412225351471832e-18, 2.706112675735916e-17, 4.871002816324649e-17]}, {\"line\": {\"color\": \"black\"}, \"mode\": \"lines\", \"showlegend\": false, \"type\": \"scatter3d\", \"x\": [-0.4375000000000001, -0.18750000000000006, 0.06250000000000001, 0.31250000000000006, 0.5625000000000001], \"y\": [13.600000000000001, 13.600000000000001, 13.600000000000001, 13.600000000000001, 13.600000000000001], \"z\": [-3.7885577460302824e-17, -1.6236676054415498e-17, 5.412225351471832e-18, 2.706112675735916e-17, 4.871002816324649e-17]}, {\"line\": {\"color\": \"black\"}, \"mode\": \"lines\", \"showlegend\": false, \"type\": \"scatter3d\", \"x\": [-0.4375000000000001, -0.18750000000000006, 0.06250000000000001, 0.31250000000000006, 0.5625000000000001], \"y\": [14.4, 14.4, 14.4, 14.4, 14.4], \"z\": [-3.7885577460302824e-17, -1.6236676054415498e-17, 5.412225351471832e-18, 2.706112675735916e-17, 4.871002816324649e-17]}, {\"line\": {\"color\": \"black\"}, \"mode\": \"lines\", \"showlegend\": false, \"type\": \"scatter3d\", \"x\": [-0.4375000000000001, -0.18750000000000006, 0.06250000000000001, 0.31250000000000006, 0.5625000000000001], \"y\": [15.200000000000001, 15.200000000000001, 15.200000000000001, 15.200000000000001, 15.200000000000001], \"z\": [-3.7885577460302824e-17, -1.6236676054415498e-17, 5.412225351471832e-18, 2.706112675735916e-17, 4.871002816324649e-17]}, {\"line\": {\"color\": \"black\"}, \"mode\": \"lines\", \"showlegend\": false, \"type\": \"scatter3d\", \"x\": [-0.4375000000000001, -0.18750000000000006, 0.06250000000000001, 0.31250000000000006, 0.5625000000000001], \"y\": [16.0, 16.0, 16.0, 16.0, 16.0], \"z\": [-3.7885577460302824e-17, -1.6236676054415498e-17, 5.412225351471832e-18, 2.706112675735916e-17, 4.871002816324649e-17]}, {\"line\": {\"color\": \"grey\"}, \"mode\": \"lines\", \"name\": \"Aero surface\", \"surfaceaxis\": 2, \"type\": \"scatter3d\", \"x\": [-0.4375000000000001, 0.5625000000000001, 0.5625000000000001, -0.4375000000000001, -0.4375000000000001], \"y\": [-7.126160546901204e-18, 9.162206417444405e-18, 16.0, 16.0, -7.126160546901204e-18], \"z\": [-3.7885577460302824e-17, 4.871002816324649e-17, 4.871002816324649e-17, -3.7885577460302824e-17, -3.7885577460302824e-17]}, {\"line\": {\"color\": \"grey\"}, \"mode\": \"lines\", \"showlegend\": false, \"type\": \"scatter3d\", \"x\": [0.5625000000000001, 0.5625000000000001, 0.5625000000000001, 0.5625000000000001, 0.5625000000000001, 0.5625000000000001, 0.5625000000000001, 0.5625000000000001, 0.5625000000000001, 0.5625000000000001, 0.5625000000000001, 0.5625000000000001, 0.5625000000000001, 0.5625000000000001, 0.5625000000000001, 0.5625000000000001, 0.5625000000000001, 0.5625000000000001, 0.5625000000000001, 0.5625000000000001, 0.5625000000000001], \"y\": [9.162206417444405e-18, 0.8, 1.6, 2.4000000000000004, 3.2, 4.0, 4.800000000000001, 5.6000000000000005, 6.4, 7.2, 8.0, 8.8, 9.600000000000001, 10.4, 11.200000000000001, 12.0, 12.8, 13.600000000000001, 14.4, 15.200000000000001, 16.0], \"z\": [4.871002816324649e-17, 4.871002816324649e-17, 4.871002816324649e-17, 4.871002816324649e-17, 4.871002816324649e-17, 4.871002816324649e-17, 4.871002816324649e-17, 4.871002816324649e-17, 4.871002816324649e-17, 4.871002816324649e-17, 4.871002816324649e-17, 4.871002816324649e-17, 4.871002816324649e-17, 4.871002816324649e-17, 4.871002816324649e-17, 4.871002816324649e-17, 4.871002816324649e-17, 4.871002816324649e-17, 4.871002816324649e-17, 4.871002816324649e-17, 4.871002816324649e-17]}, {\"line\": {\"color\": \"grey\"}, \"mode\": \"lines\", \"showlegend\": false, \"type\": \"scatter3d\", \"x\": [0.8123477075000001, 0.8123477075000001, 0.8123477075000001, 0.8123477075000001, 0.8123477075000001, 0.8123477075000001, 0.8123477075000001, 0.8123477075000001, 0.8123477075000001, 0.8123477075000001, 0.8123477075000001, 0.8123477075000001, 0.8123477075000001, 0.8123477075000001, 0.8123477075000001, 0.8123477075000001, 0.8123477075000001, 0.8123477075000001, 0.8123477075000001, 0.8123477075000001, 0.8123477075000001], \"y\": [9.162206417444405e-18, 0.8, 1.6, 2.4000000000000004, 3.2, 4.0, 4.800000000000001, 5.6000000000000005, 6.4, 7.2, 8.0, 8.8, 9.600000000000001, 10.4, 11.200000000000001, 12.0, 12.8, 13.600000000000001, 14.4, 15.200000000000001, 16.0], \"z\": [0.008724875000000049, 0.008724875000000049, 0.008724875000000049, 0.008724875000000049, 0.008724875000000049, 0.008724875000000049, 0.008724875000000049, 0.008724875000000049, 0.008724875000000049, 0.008724875000000049, 0.008724875000000049, 0.008724875000000049, 0.008724875000000049, 0.008724875000000049, 0.008724875000000049, 0.008724875000000049, 0.008724875000000049, 0.008724875000000049, 0.008724875000000049, 0.008724875000000049, 0.008724875000000049]}, {\"line\": {\"color\": \"grey\"}, \"mode\": \"lines\", \"showlegend\": false, \"type\": \"scatter3d\", \"x\": [1.0621954150000001, 1.0621954150000001, 1.0621954150000001, 1.0621954150000001, 1.0621954150000001, 1.0621954150000001, 1.0621954150000001, 1.0621954150000001, 1.0621954150000001, 1.0621954150000001, 1.0621954150000001, 1.0621954150000001, 1.0621954150000001, 1.0621954150000001, 1.0621954150000001, 1.0621954150000001, 1.0621954150000001, 1.0621954150000001, 1.0621954150000001, 1.0621954150000001, 1.0621954150000001], \"y\": [9.162206417444405e-18, 0.8, 1.6, 2.4000000000000004, 3.2, 4.0, 4.800000000000001, 5.6000000000000005, 6.4, 7.2, 8.0, 8.8, 9.600000000000001, 10.4, 11.200000000000001, 12.0, 12.8, 13.600000000000001, 14.4, 15.200000000000001, 16.0], \"z\": [0.01744975000000005, 0.01744975000000005, 0.01744975000000005, 0.01744975000000005, 0.01744975000000005, 0.01744975000000005, 0.01744975000000005, 0.01744975000000005, 0.01744975000000005, 0.01744975000000005, 0.01744975000000005, 0.01744975000000005, 0.01744975000000005, 0.01744975000000005, 0.01744975000000005, 0.01744975000000005, 0.01744975000000005, 0.01744975000000005, 0.01744975000000005, 0.01744975000000005, 0.01744975000000005]}, {\"line\": {\"color\": \"grey\"}, \"mode\": \"lines\", \"showlegend\": false, \"type\": \"scatter3d\", \"x\": [1.3120431225000002, 1.3120431225000002, 1.3120431225000002, 1.3120431225000002, 1.3120431225000002, 1.3120431225000002, 1.3120431225000002, 1.3120431225000002, 1.3120431225000002, 1.3120431225000002, 1.3120431225000002, 1.3120431225000002, 1.3120431225000002, 1.3120431225000002, 1.3120431225000002, 1.3120431225000002, 1.3120431225000002, 1.3120431225000002, 1.3120431225000002, 1.3120431225000002, 1.3120431225000002], \"y\": [9.162206417444405e-18, 0.8, 1.6, 2.4000000000000004, 3.2, 4.0, 4.800000000000001, 5.6000000000000005, 6.4, 7.2, 8.0, 8.8, 9.600000000000001, 10.4, 11.200000000000001, 12.0, 12.8, 13.600000000000001, 14.4, 15.200000000000001, 16.0], \"z\": [0.02617462500000005, 0.02617462500000005, 0.02617462500000005, 0.02617462500000005, 0.02617462500000005, 0.02617462500000005, 0.02617462500000005, 0.02617462500000005, 0.02617462500000005, 0.02617462500000005, 0.02617462500000005, 0.02617462500000005, 0.02617462500000005, 0.02617462500000005, 0.02617462500000005, 0.02617462500000005, 0.02617462500000005, 0.02617462500000005, 0.02617462500000005, 0.02617462500000005, 0.02617462500000005]}, {\"line\": {\"color\": \"grey\"}, \"mode\": \"lines\", \"showlegend\": false, \"type\": \"scatter3d\", \"x\": [1.5618908300000003, 1.5618908300000003, 1.5618908300000003, 1.5618908300000003, 1.5618908300000003, 1.5618908300000003, 1.5618908300000003, 1.5618908300000003, 1.5618908300000003, 1.5618908300000003, 1.5618908300000003, 1.5618908300000003, 1.5618908300000003, 1.5618908300000003, 1.5618908300000003, 1.5618908300000003, 1.5618908300000003, 1.5618908300000003, 1.5618908300000003, 1.5618908300000003, 1.5618908300000003], \"y\": [9.162206417444405e-18, 0.8, 1.6, 2.4000000000000004, 3.2, 4.0, 4.800000000000001, 5.6000000000000005, 6.4, 7.2, 8.0, 8.8, 9.600000000000001, 10.4, 11.200000000000001, 12.0, 12.8, 13.600000000000001, 14.4, 15.200000000000001, 16.0], \"z\": [0.03489950000000005, 0.03489950000000005, 0.03489950000000005, 0.03489950000000005, 0.03489950000000005, 0.03489950000000005, 0.03489950000000005, 0.03489950000000005, 0.03489950000000005, 0.03489950000000005, 0.03489950000000005, 0.03489950000000005, 0.03489950000000005, 0.03489950000000005, 0.03489950000000005, 0.03489950000000005, 0.03489950000000005, 0.03489950000000005, 0.03489950000000005, 0.03489950000000005, 0.03489950000000005]}, {\"line\": {\"color\": \"grey\"}, \"mode\": \"lines\", \"showlegend\": false, \"type\": \"scatter3d\", \"x\": [1.8117385375000004, 1.8117385375000004, 1.8117385375000004, 1.8117385375000004, 1.8117385375000004, 1.8117385375000004, 1.8117385375000004, 1.8117385375000004, 1.8117385375000004, 1.8117385375000004, 1.8117385375000004, 1.8117385375000004, 1.8117385375000004, 1.8117385375000004, 1.8117385375000004, 1.8117385375000004, 1.8117385375000004, 1.8117385375000004, 1.8117385375000004, 1.8117385375000004, 1.8117385375000004], \"y\": [9.162206417444405e-18, 0.8, 1.6, 2.4000000000000004, 3.2, 4.0, 4.800000000000001, 5.6000000000000005, 6.4, 7.2, 8.0, 8.8, 9.600000000000001, 10.4, 11.200000000000001, 12.0, 12.8, 13.600000000000001, 14.4, 15.200000000000001, 16.0], \"z\": [0.04362437500000005, 0.04362437500000005, 0.04362437500000005, 0.04362437500000005, 0.04362437500000005, 0.04362437500000005, 0.04362437500000005, 0.04362437500000005, 0.04362437500000005, 0.04362437500000005, 0.04362437500000005, 0.04362437500000005, 0.04362437500000005, 0.04362437500000005, 0.04362437500000005, 0.04362437500000005, 0.04362437500000005, 0.04362437500000005, 0.04362437500000005, 0.04362437500000005, 0.04362437500000005]}, {\"line\": {\"color\": \"grey\"}, \"mode\": \"lines\", \"showlegend\": false, \"type\": \"scatter3d\", \"x\": [2.0615862450000004, 2.0615862450000004, 2.0615862450000004, 2.0615862450000004, 2.0615862450000004, 2.0615862450000004, 2.0615862450000004, 2.0615862450000004, 2.0615862450000004, 2.0615862450000004, 2.0615862450000004, 2.0615862450000004, 2.0615862450000004, 2.0615862450000004, 2.0615862450000004, 2.0615862450000004, 2.0615862450000004, 2.0615862450000004, 2.0615862450000004, 2.0615862450000004, 2.0615862450000004], \"y\": [9.162206417444405e-18, 0.8, 1.6, 2.4000000000000004, 3.2, 4.0, 4.800000000000001, 5.6000000000000005, 6.4, 7.2, 8.0, 8.8, 9.600000000000001, 10.4, 11.200000000000001, 12.0, 12.8, 13.600000000000001, 14.4, 15.200000000000001, 16.0], \"z\": [0.05234925000000005, 0.05234925000000005, 0.05234925000000005, 0.05234925000000005, 0.05234925000000005, 0.05234925000000005, 0.05234925000000005, 0.05234925000000005, 0.05234925000000005, 0.05234925000000005, 0.05234925000000005, 0.05234925000000005, 0.05234925000000005, 0.05234925000000005, 0.05234925000000005, 0.05234925000000005, 0.05234925000000005, 0.05234925000000005, 0.05234925000000005, 0.05234925000000005, 0.05234925000000005]}, {\"line\": {\"color\": \"grey\"}, \"mode\": \"lines\", \"showlegend\": false, \"type\": \"scatter3d\", \"x\": [0.5625000000000001, 0.8123477075000001, 1.0621954150000001, 1.3120431225000002, 1.5618908300000003, 1.8117385375000004, 2.0615862450000004], \"y\": [9.162206417444405e-18, 9.162206417444405e-18, 9.162206417444405e-18, 9.162206417444405e-18, 9.162206417444405e-18, 9.162206417444405e-18, 9.162206417444405e-18], \"z\": [4.871002816324649e-17, 0.008724875000000049, 0.01744975000000005, 0.02617462500000005, 0.03489950000000005, 0.04362437500000005, 0.05234925000000005]}, {\"line\": {\"color\": \"grey\"}, \"mode\": \"lines\", \"showlegend\": false, \"type\": \"scatter3d\", \"x\": [0.5625000000000001, 0.8123477075000001, 1.0621954150000001, 1.3120431225000002, 1.5618908300000003, 1.8117385375000004, 2.0615862450000004], \"y\": [0.8, 0.8, 0.8, 0.8, 0.8, 0.8, 0.8], \"z\": [4.871002816324649e-17, 0.008724875000000049, 0.01744975000000005, 0.02617462500000005, 0.03489950000000005, 0.04362437500000005, 0.05234925000000005]}, {\"line\": {\"color\": \"grey\"}, \"mode\": \"lines\", \"showlegend\": false, \"type\": \"scatter3d\", \"x\": [0.5625000000000001, 0.8123477075000001, 1.0621954150000001, 1.3120431225000002, 1.5618908300000003, 1.8117385375000004, 2.0615862450000004], \"y\": [1.6, 1.6, 1.6, 1.6, 1.6, 1.6, 1.6], \"z\": [4.871002816324649e-17, 0.008724875000000049, 0.01744975000000005, 0.02617462500000005, 0.03489950000000005, 0.04362437500000005, 0.05234925000000005]}, {\"line\": {\"color\": \"grey\"}, \"mode\": \"lines\", \"showlegend\": false, \"type\": \"scatter3d\", \"x\": [0.5625000000000001, 0.8123477075000001, 1.0621954150000001, 1.3120431225000002, 1.5618908300000003, 1.8117385375000004, 2.0615862450000004], \"y\": [2.4000000000000004, 2.4000000000000004, 2.4000000000000004, 2.4000000000000004, 2.4000000000000004, 2.4000000000000004, 2.4000000000000004], \"z\": [4.871002816324649e-17, 0.008724875000000049, 0.01744975000000005, 0.02617462500000005, 0.03489950000000005, 0.04362437500000005, 0.05234925000000005]}, {\"line\": {\"color\": \"grey\"}, \"mode\": \"lines\", \"showlegend\": false, \"type\": \"scatter3d\", \"x\": [0.5625000000000001, 0.8123477075000001, 1.0621954150000001, 1.3120431225000002, 1.5618908300000003, 1.8117385375000004, 2.0615862450000004], \"y\": [3.2, 3.2, 3.2, 3.2, 3.2, 3.2, 3.2], \"z\": [4.871002816324649e-17, 0.008724875000000049, 0.01744975000000005, 0.02617462500000005, 0.03489950000000005, 0.04362437500000005, 0.05234925000000005]}, {\"line\": {\"color\": \"grey\"}, \"mode\": \"lines\", \"showlegend\": false, \"type\": \"scatter3d\", \"x\": [0.5625000000000001, 0.8123477075000001, 1.0621954150000001, 1.3120431225000002, 1.5618908300000003, 1.8117385375000004, 2.0615862450000004], \"y\": [4.0, 4.0, 4.0, 4.0, 4.0, 4.0, 4.0], \"z\": [4.871002816324649e-17, 0.008724875000000049, 0.01744975000000005, 0.02617462500000005, 0.03489950000000005, 0.04362437500000005, 0.05234925000000005]}, {\"line\": {\"color\": \"grey\"}, \"mode\": \"lines\", \"showlegend\": false, \"type\": \"scatter3d\", \"x\": [0.5625000000000001, 0.8123477075000001, 1.0621954150000001, 1.3120431225000002, 1.5618908300000003, 1.8117385375000004, 2.0615862450000004], \"y\": [4.800000000000001, 4.800000000000001, 4.800000000000001, 4.800000000000001, 4.800000000000001, 4.800000000000001, 4.800000000000001], \"z\": [4.871002816324649e-17, 0.008724875000000049, 0.01744975000000005, 0.02617462500000005, 0.03489950000000005, 0.04362437500000005, 0.05234925000000005]}, {\"line\": {\"color\": \"grey\"}, \"mode\": \"lines\", \"showlegend\": false, \"type\": \"scatter3d\", \"x\": [0.5625000000000001, 0.8123477075000001, 1.0621954150000001, 1.3120431225000002, 1.5618908300000003, 1.8117385375000004, 2.0615862450000004], \"y\": [5.6000000000000005, 5.6000000000000005, 5.6000000000000005, 5.6000000000000005, 5.6000000000000005, 5.6000000000000005, 5.6000000000000005], \"z\": [4.871002816324649e-17, 0.008724875000000049, 0.01744975000000005, 0.02617462500000005, 0.03489950000000005, 0.04362437500000005, 0.05234925000000005]}, {\"line\": {\"color\": \"grey\"}, \"mode\": \"lines\", \"showlegend\": false, \"type\": \"scatter3d\", \"x\": [0.5625000000000001, 0.8123477075000001, 1.0621954150000001, 1.3120431225000002, 1.5618908300000003, 1.8117385375000004, 2.0615862450000004], \"y\": [6.4, 6.4, 6.4, 6.4, 6.4, 6.4, 6.4], \"z\": [4.871002816324649e-17, 0.008724875000000049, 0.01744975000000005, 0.02617462500000005, 0.03489950000000005, 0.04362437500000005, 0.05234925000000005]}, {\"line\": {\"color\": \"grey\"}, \"mode\": \"lines\", \"showlegend\": false, \"type\": \"scatter3d\", \"x\": [0.5625000000000001, 0.8123477075000001, 1.0621954150000001, 1.3120431225000002, 1.5618908300000003, 1.8117385375000004, 2.0615862450000004], \"y\": [7.2, 7.2, 7.2, 7.2, 7.2, 7.2, 7.2], \"z\": [4.871002816324649e-17, 0.008724875000000049, 0.01744975000000005, 0.02617462500000005, 0.03489950000000005, 0.04362437500000005, 0.05234925000000005]}, {\"line\": {\"color\": \"grey\"}, \"mode\": \"lines\", \"showlegend\": false, \"type\": \"scatter3d\", \"x\": [0.5625000000000001, 0.8123477075000001, 1.0621954150000001, 1.3120431225000002, 1.5618908300000003, 1.8117385375000004, 2.0615862450000004], \"y\": [8.0, 8.0, 8.0, 8.0, 8.0, 8.0, 8.0], \"z\": [4.871002816324649e-17, 0.008724875000000049, 0.01744975000000005, 0.02617462500000005, 0.03489950000000005, 0.04362437500000005, 0.05234925000000005]}, {\"line\": {\"color\": \"grey\"}, \"mode\": \"lines\", \"showlegend\": false, \"type\": \"scatter3d\", \"x\": [0.5625000000000001, 0.8123477075000001, 1.0621954150000001, 1.3120431225000002, 1.5618908300000003, 1.8117385375000004, 2.0615862450000004], \"y\": [8.8, 8.8, 8.8, 8.8, 8.8, 8.8, 8.8], \"z\": [4.871002816324649e-17, 0.008724875000000049, 0.01744975000000005, 0.02617462500000005, 0.03489950000000005, 0.04362437500000005, 0.05234925000000005]}, {\"line\": {\"color\": \"grey\"}, \"mode\": \"lines\", \"showlegend\": false, \"type\": \"scatter3d\", \"x\": [0.5625000000000001, 0.8123477075000001, 1.0621954150000001, 1.3120431225000002, 1.5618908300000003, 1.8117385375000004, 2.0615862450000004], \"y\": [9.600000000000001, 9.600000000000001, 9.600000000000001, 9.600000000000001, 9.600000000000001, 9.600000000000001, 9.600000000000001], \"z\": [4.871002816324649e-17, 0.008724875000000049, 0.01744975000000005, 0.02617462500000005, 0.03489950000000005, 0.04362437500000005, 0.05234925000000005]}, {\"line\": {\"color\": \"grey\"}, \"mode\": \"lines\", \"showlegend\": false, \"type\": \"scatter3d\", \"x\": [0.5625000000000001, 0.8123477075000001, 1.0621954150000001, 1.3120431225000002, 1.5618908300000003, 1.8117385375000004, 2.0615862450000004], \"y\": [10.4, 10.4, 10.4, 10.4, 10.4, 10.4, 10.4], \"z\": [4.871002816324649e-17, 0.008724875000000049, 0.01744975000000005, 0.02617462500000005, 0.03489950000000005, 0.04362437500000005, 0.05234925000000005]}, {\"line\": {\"color\": \"grey\"}, \"mode\": \"lines\", \"showlegend\": false, \"type\": \"scatter3d\", \"x\": [0.5625000000000001, 0.8123477075000001, 1.0621954150000001, 1.3120431225000002, 1.5618908300000003, 1.8117385375000004, 2.0615862450000004], \"y\": [11.200000000000001, 11.200000000000001, 11.200000000000001, 11.200000000000001, 11.200000000000001, 11.200000000000001, 11.200000000000001], \"z\": [4.871002816324649e-17, 0.008724875000000049, 0.01744975000000005, 0.02617462500000005, 0.03489950000000005, 0.04362437500000005, 0.05234925000000005]}, {\"line\": {\"color\": \"grey\"}, \"mode\": \"lines\", \"showlegend\": false, \"type\": \"scatter3d\", \"x\": [0.5625000000000001, 0.8123477075000001, 1.0621954150000001, 1.3120431225000002, 1.5618908300000003, 1.8117385375000004, 2.0615862450000004], \"y\": [12.0, 12.0, 12.0, 12.0, 12.0, 12.0, 12.0], \"z\": [4.871002816324649e-17, 0.008724875000000049, 0.01744975000000005, 0.02617462500000005, 0.03489950000000005, 0.04362437500000005, 0.05234925000000005]}, {\"line\": {\"color\": \"grey\"}, \"mode\": \"lines\", \"showlegend\": false, \"type\": \"scatter3d\", \"x\": [0.5625000000000001, 0.8123477075000001, 1.0621954150000001, 1.3120431225000002, 1.5618908300000003, 1.8117385375000004, 2.0615862450000004], \"y\": [12.8, 12.8, 12.8, 12.8, 12.8, 12.8, 12.8], \"z\": [4.871002816324649e-17, 0.008724875000000049, 0.01744975000000005, 0.02617462500000005, 0.03489950000000005, 0.04362437500000005, 0.05234925000000005]}, {\"line\": {\"color\": \"grey\"}, \"mode\": \"lines\", \"showlegend\": false, \"type\": \"scatter3d\", \"x\": [0.5625000000000001, 0.8123477075000001, 1.0621954150000001, 1.3120431225000002, 1.5618908300000003, 1.8117385375000004, 2.0615862450000004], \"y\": [13.600000000000001, 13.600000000000001, 13.600000000000001, 13.600000000000001, 13.600000000000001, 13.600000000000001, 13.600000000000001], \"z\": [4.871002816324649e-17, 0.008724875000000049, 0.01744975000000005, 0.02617462500000005, 0.03489950000000005, 0.04362437500000005, 0.05234925000000005]}, {\"line\": {\"color\": \"grey\"}, \"mode\": \"lines\", \"showlegend\": false, \"type\": \"scatter3d\", \"x\": [0.5625000000000001, 0.8123477075000001, 1.0621954150000001, 1.3120431225000002, 1.5618908300000003, 1.8117385375000004, 2.0615862450000004], \"y\": [14.4, 14.4, 14.4, 14.4, 14.4, 14.4, 14.4], \"z\": [4.871002816324649e-17, 0.008724875000000049, 0.01744975000000005, 0.02617462500000005, 0.03489950000000005, 0.04362437500000005, 0.05234925000000005]}, {\"line\": {\"color\": \"grey\"}, \"mode\": \"lines\", \"showlegend\": false, \"type\": \"scatter3d\", \"x\": [0.5625000000000001, 0.8123477075000001, 1.0621954150000001, 1.3120431225000002, 1.5618908300000003, 1.8117385375000004, 2.0615862450000004], \"y\": [15.200000000000001, 15.200000000000001, 15.200000000000001, 15.200000000000001, 15.200000000000001, 15.200000000000001, 15.200000000000001], \"z\": [4.871002816324649e-17, 0.008724875000000049, 0.01744975000000005, 0.02617462500000005, 0.03489950000000005, 0.04362437500000005, 0.05234925000000005]}, {\"line\": {\"color\": \"grey\"}, \"mode\": \"lines\", \"showlegend\": false, \"type\": \"scatter3d\", \"x\": [0.5625000000000001, 0.8123477075000001, 1.0621954150000001, 1.3120431225000002, 1.5618908300000003, 1.8117385375000004, 2.0615862450000004], \"y\": [16.0, 16.0, 16.0, 16.0, 16.0, 16.0, 16.0], \"z\": [4.871002816324649e-17, 0.008724875000000049, 0.01744975000000005, 0.02617462500000005, 0.03489950000000005, 0.04362437500000005, 0.05234925000000005]}, {\"line\": {\"color\": \"lightskyblue\"}, \"mode\": \"lines\", \"name\": \"Aero wake\", \"surfaceaxis\": 2, \"type\": \"scatter3d\", \"x\": [0.5625000000000001, 2.0615862450000004, 2.0615862450000004, 0.5625000000000001, 0.5625000000000001], \"y\": [9.162206417444405e-18, 9.162206417444405e-18, 16.0, 16.0, 9.162206417444405e-18], \"z\": [4.871002816324649e-17, 0.05234925000000005, 0.05234925000000005, 4.871002816324649e-17, 4.871002816324649e-17]}],\n",
       "                        {\"template\": {\"data\": {\"bar\": [{\"error_x\": {\"color\": \"#2a3f5f\"}, \"error_y\": {\"color\": \"#2a3f5f\"}, \"marker\": {\"line\": {\"color\": \"#E5ECF6\", \"width\": 0.5}}, \"type\": \"bar\"}], \"barpolar\": [{\"marker\": {\"line\": {\"color\": \"#E5ECF6\", \"width\": 0.5}}, \"type\": \"barpolar\"}], \"carpet\": [{\"aaxis\": {\"endlinecolor\": \"#2a3f5f\", \"gridcolor\": \"white\", \"linecolor\": \"white\", \"minorgridcolor\": \"white\", \"startlinecolor\": \"#2a3f5f\"}, \"baxis\": {\"endlinecolor\": \"#2a3f5f\", \"gridcolor\": \"white\", \"linecolor\": \"white\", \"minorgridcolor\": \"white\", \"startlinecolor\": \"#2a3f5f\"}, \"type\": \"carpet\"}], \"choropleth\": [{\"colorbar\": {\"outlinewidth\": 0, \"ticks\": \"\"}, \"type\": \"choropleth\"}], \"contour\": [{\"colorbar\": {\"outlinewidth\": 0, \"ticks\": \"\"}, \"colorscale\": [[0.0, \"#0d0887\"], [0.1111111111111111, \"#46039f\"], [0.2222222222222222, \"#7201a8\"], [0.3333333333333333, \"#9c179e\"], [0.4444444444444444, \"#bd3786\"], [0.5555555555555556, \"#d8576b\"], [0.6666666666666666, \"#ed7953\"], [0.7777777777777778, \"#fb9f3a\"], [0.8888888888888888, \"#fdca26\"], [1.0, \"#f0f921\"]], \"type\": \"contour\"}], \"contourcarpet\": [{\"colorbar\": {\"outlinewidth\": 0, \"ticks\": \"\"}, \"type\": \"contourcarpet\"}], \"heatmap\": [{\"colorbar\": {\"outlinewidth\": 0, \"ticks\": \"\"}, \"colorscale\": [[0.0, \"#0d0887\"], [0.1111111111111111, \"#46039f\"], [0.2222222222222222, \"#7201a8\"], [0.3333333333333333, \"#9c179e\"], [0.4444444444444444, \"#bd3786\"], [0.5555555555555556, \"#d8576b\"], [0.6666666666666666, \"#ed7953\"], [0.7777777777777778, \"#fb9f3a\"], [0.8888888888888888, \"#fdca26\"], [1.0, \"#f0f921\"]], \"type\": \"heatmap\"}], \"heatmapgl\": [{\"colorbar\": {\"outlinewidth\": 0, \"ticks\": \"\"}, \"colorscale\": [[0.0, \"#0d0887\"], [0.1111111111111111, \"#46039f\"], [0.2222222222222222, \"#7201a8\"], [0.3333333333333333, \"#9c179e\"], [0.4444444444444444, \"#bd3786\"], [0.5555555555555556, \"#d8576b\"], [0.6666666666666666, \"#ed7953\"], [0.7777777777777778, \"#fb9f3a\"], [0.8888888888888888, \"#fdca26\"], [1.0, \"#f0f921\"]], \"type\": \"heatmapgl\"}], \"histogram\": [{\"marker\": {\"colorbar\": {\"outlinewidth\": 0, \"ticks\": \"\"}}, \"type\": \"histogram\"}], \"histogram2d\": [{\"colorbar\": {\"outlinewidth\": 0, \"ticks\": \"\"}, \"colorscale\": [[0.0, \"#0d0887\"], [0.1111111111111111, \"#46039f\"], [0.2222222222222222, \"#7201a8\"], [0.3333333333333333, \"#9c179e\"], [0.4444444444444444, \"#bd3786\"], [0.5555555555555556, \"#d8576b\"], [0.6666666666666666, \"#ed7953\"], [0.7777777777777778, \"#fb9f3a\"], [0.8888888888888888, \"#fdca26\"], [1.0, \"#f0f921\"]], \"type\": \"histogram2d\"}], \"histogram2dcontour\": [{\"colorbar\": {\"outlinewidth\": 0, \"ticks\": \"\"}, \"colorscale\": [[0.0, \"#0d0887\"], [0.1111111111111111, \"#46039f\"], [0.2222222222222222, \"#7201a8\"], [0.3333333333333333, \"#9c179e\"], [0.4444444444444444, \"#bd3786\"], [0.5555555555555556, \"#d8576b\"], [0.6666666666666666, \"#ed7953\"], [0.7777777777777778, \"#fb9f3a\"], [0.8888888888888888, \"#fdca26\"], [1.0, \"#f0f921\"]], \"type\": \"histogram2dcontour\"}], \"mesh3d\": [{\"colorbar\": {\"outlinewidth\": 0, \"ticks\": \"\"}, \"type\": \"mesh3d\"}], \"parcoords\": [{\"line\": {\"colorbar\": {\"outlinewidth\": 0, \"ticks\": \"\"}}, \"type\": \"parcoords\"}], \"pie\": [{\"automargin\": true, \"type\": \"pie\"}], \"scatter\": [{\"marker\": {\"colorbar\": {\"outlinewidth\": 0, \"ticks\": \"\"}}, \"type\": \"scatter\"}], \"scatter3d\": [{\"line\": {\"colorbar\": {\"outlinewidth\": 0, \"ticks\": \"\"}}, \"marker\": {\"colorbar\": {\"outlinewidth\": 0, \"ticks\": \"\"}}, \"type\": \"scatter3d\"}], \"scattercarpet\": [{\"marker\": {\"colorbar\": {\"outlinewidth\": 0, \"ticks\": \"\"}}, \"type\": \"scattercarpet\"}], \"scattergeo\": [{\"marker\": {\"colorbar\": {\"outlinewidth\": 0, \"ticks\": \"\"}}, \"type\": \"scattergeo\"}], \"scattergl\": [{\"marker\": {\"colorbar\": {\"outlinewidth\": 0, \"ticks\": \"\"}}, \"type\": \"scattergl\"}], \"scattermapbox\": [{\"marker\": {\"colorbar\": {\"outlinewidth\": 0, \"ticks\": \"\"}}, \"type\": \"scattermapbox\"}], \"scatterpolar\": [{\"marker\": {\"colorbar\": {\"outlinewidth\": 0, \"ticks\": \"\"}}, \"type\": \"scatterpolar\"}], \"scatterpolargl\": [{\"marker\": {\"colorbar\": {\"outlinewidth\": 0, \"ticks\": \"\"}}, \"type\": \"scatterpolargl\"}], \"scatterternary\": [{\"marker\": {\"colorbar\": {\"outlinewidth\": 0, \"ticks\": \"\"}}, \"type\": \"scatterternary\"}], \"surface\": [{\"colorbar\": {\"outlinewidth\": 0, \"ticks\": \"\"}, \"colorscale\": [[0.0, \"#0d0887\"], [0.1111111111111111, \"#46039f\"], [0.2222222222222222, \"#7201a8\"], [0.3333333333333333, \"#9c179e\"], [0.4444444444444444, \"#bd3786\"], [0.5555555555555556, \"#d8576b\"], [0.6666666666666666, \"#ed7953\"], [0.7777777777777778, \"#fb9f3a\"], [0.8888888888888888, \"#fdca26\"], [1.0, \"#f0f921\"]], \"type\": \"surface\"}], \"table\": [{\"cells\": {\"fill\": {\"color\": \"#EBF0F8\"}, \"line\": {\"color\": \"white\"}}, \"header\": {\"fill\": {\"color\": \"#C8D4E3\"}, \"line\": {\"color\": \"white\"}}, \"type\": \"table\"}]}, \"layout\": {\"annotationdefaults\": {\"arrowcolor\": \"#2a3f5f\", \"arrowhead\": 0, \"arrowwidth\": 1}, \"coloraxis\": {\"colorbar\": {\"outlinewidth\": 0, \"ticks\": \"\"}}, \"colorscale\": {\"diverging\": [[0, \"#8e0152\"], [0.1, \"#c51b7d\"], [0.2, \"#de77ae\"], [0.3, \"#f1b6da\"], [0.4, \"#fde0ef\"], [0.5, \"#f7f7f7\"], [0.6, \"#e6f5d0\"], [0.7, \"#b8e186\"], [0.8, \"#7fbc41\"], [0.9, \"#4d9221\"], [1, \"#276419\"]], \"sequential\": [[0.0, \"#0d0887\"], [0.1111111111111111, \"#46039f\"], [0.2222222222222222, \"#7201a8\"], [0.3333333333333333, \"#9c179e\"], [0.4444444444444444, \"#bd3786\"], [0.5555555555555556, \"#d8576b\"], [0.6666666666666666, \"#ed7953\"], [0.7777777777777778, \"#fb9f3a\"], [0.8888888888888888, \"#fdca26\"], [1.0, \"#f0f921\"]], \"sequentialminus\": [[0.0, \"#0d0887\"], [0.1111111111111111, \"#46039f\"], [0.2222222222222222, \"#7201a8\"], [0.3333333333333333, \"#9c179e\"], [0.4444444444444444, \"#bd3786\"], [0.5555555555555556, \"#d8576b\"], [0.6666666666666666, \"#ed7953\"], [0.7777777777777778, \"#fb9f3a\"], [0.8888888888888888, \"#fdca26\"], [1.0, \"#f0f921\"]]}, \"colorway\": [\"#636efa\", \"#EF553B\", \"#00cc96\", \"#ab63fa\", \"#FFA15A\", \"#19d3f3\", \"#FF6692\", \"#B6E880\", \"#FF97FF\", \"#FECB52\"], \"font\": {\"color\": \"#2a3f5f\"}, \"geo\": {\"bgcolor\": \"white\", \"lakecolor\": \"white\", \"landcolor\": \"#E5ECF6\", \"showlakes\": true, \"showland\": true, \"subunitcolor\": \"white\"}, \"hoverlabel\": {\"align\": \"left\"}, \"hovermode\": \"closest\", \"mapbox\": {\"style\": \"light\"}, \"paper_bgcolor\": \"white\", \"plot_bgcolor\": \"#E5ECF6\", \"polar\": {\"angularaxis\": {\"gridcolor\": \"white\", \"linecolor\": \"white\", \"ticks\": \"\"}, \"bgcolor\": \"#E5ECF6\", \"radialaxis\": {\"gridcolor\": \"white\", \"linecolor\": \"white\", \"ticks\": \"\"}}, \"scene\": {\"xaxis\": {\"backgroundcolor\": \"#E5ECF6\", \"gridcolor\": \"white\", \"gridwidth\": 2, \"linecolor\": \"white\", \"showbackground\": true, \"ticks\": \"\", \"zerolinecolor\": \"white\"}, \"yaxis\": {\"backgroundcolor\": \"#E5ECF6\", \"gridcolor\": \"white\", \"gridwidth\": 2, \"linecolor\": \"white\", \"showbackground\": true, \"ticks\": \"\", \"zerolinecolor\": \"white\"}, \"zaxis\": {\"backgroundcolor\": \"#E5ECF6\", \"gridcolor\": \"white\", \"gridwidth\": 2, \"linecolor\": \"white\", \"showbackground\": true, \"ticks\": \"\", \"zerolinecolor\": \"white\"}}, \"shapedefaults\": {\"line\": {\"color\": \"#2a3f5f\"}}, \"ternary\": {\"aaxis\": {\"gridcolor\": \"white\", \"linecolor\": \"white\", \"ticks\": \"\"}, \"baxis\": {\"gridcolor\": \"white\", \"linecolor\": \"white\", \"ticks\": \"\"}, \"bgcolor\": \"#E5ECF6\", \"caxis\": {\"gridcolor\": \"white\", \"linecolor\": \"white\", \"ticks\": \"\"}}, \"title\": {\"x\": 0.05}, \"xaxis\": {\"automargin\": true, \"gridcolor\": \"white\", \"linecolor\": \"white\", \"ticks\": \"\", \"title\": {\"standoff\": 15}, \"zerolinecolor\": \"white\", \"zerolinewidth\": 2}, \"yaxis\": {\"automargin\": true, \"gridcolor\": \"white\", \"linecolor\": \"white\", \"ticks\": \"\", \"title\": {\"standoff\": 15}, \"zerolinecolor\": \"white\", \"zerolinewidth\": 2}}}},\n",
       "                        {\"responsive\": true}\n",
       "                    ).then(function(){\n",
       "                            \n",
       "var gd = document.getElementById('ee46d836-d866-4b72-9e2b-f89ce653e305');\n",
       "var x = new MutationObserver(function (mutations, observer) {{\n",
       "        var display = window.getComputedStyle(gd).display;\n",
       "        if (!display || display === 'none') {{\n",
       "            console.log([gd, 'removed!']);\n",
       "            Plotly.purge(gd);\n",
       "            observer.disconnect();\n",
       "        }}\n",
       "}});\n",
       "\n",
       "// Listen for the removal of the full notebook cells\n",
       "var notebookContainer = gd.closest('#notebook-container');\n",
       "if (notebookContainer) {{\n",
       "    x.observe(notebookContainer, {childList: true});\n",
       "}}\n",
       "\n",
       "// Listen for the clearing of the current output cell\n",
       "var outputEl = gd.closest('.output');\n",
       "if (outputEl) {{\n",
       "    x.observe(outputEl, {childList: true});\n",
       "}}\n",
       "\n",
       "                        })\n",
       "                };\n",
       "                });\n",
       "            </script>\n",
       "        </div>"
      ]
     },
     "metadata": {},
     "output_type": "display_data"
    }
   ],
   "source": [
    "plot_timestep(sharpy_output, tstep=-1, minus_mstar=(mstar - 6), plotly=True)"
   ]
  },
  {
   "cell_type": "code",
   "execution_count": 38,
   "metadata": {},
   "outputs": [
    {
     "data": {
      "text/plain": [
       "{'flow': ['BeamLoader', 'AerogridLoader'],\n",
       " 'case': 'aoa2p00',\n",
       " 'route': './',\n",
       " 'write_screen': 'on',\n",
       " 'write_log': 'off',\n",
       " 'log_folder': './output',\n",
       " 'log_file': 'log'}"
      ]
     },
     "execution_count": 38,
     "metadata": {},
     "output_type": "execute_result"
    }
   ],
   "source": [
    "SimInfo.solvers['SHARPy']"
   ]
  },
  {
   "cell_type": "code",
   "execution_count": 5,
   "metadata": {},
   "outputs": [
    {
     "ename": "NameError",
     "evalue": "name 'end_time' is not defined",
     "output_type": "error",
     "traceback": [
      "\u001b[0;31m---------------------------------------------------------------------------\u001b[0m",
      "\u001b[0;31mNameError\u001b[0m                                 Traceback (most recent call last)",
      "\u001b[0;32m<ipython-input-5-df8fe93ec502>\u001b[0m in \u001b[0;36m<module>\u001b[0;34m\u001b[0m\n\u001b[1;32m      1\u001b[0m \u001b[0;31m# Compute the number of time steps needed based on the previous parameters\u001b[0m\u001b[0;34m\u001b[0m\u001b[0;34m\u001b[0m\u001b[0;34m\u001b[0m\u001b[0m\n\u001b[0;32m----> 2\u001b[0;31m \u001b[0mtime_steps\u001b[0m \u001b[0;34m=\u001b[0m \u001b[0mint\u001b[0m\u001b[0;34m(\u001b[0m\u001b[0mend_time\u001b[0m\u001b[0;34m/\u001b[0m\u001b[0mdt\u001b[0m\u001b[0;34m)\u001b[0m\u001b[0;34m\u001b[0m\u001b[0;34m\u001b[0m\u001b[0m\n\u001b[0m\u001b[1;32m      3\u001b[0m \u001b[0;34m\u001b[0m\u001b[0m\n\u001b[1;32m      4\u001b[0m \u001b[0;31m# Generate basic information about the case\u001b[0m\u001b[0;34m\u001b[0m\u001b[0;34m\u001b[0m\u001b[0;34m\u001b[0m\u001b[0m\n\u001b[1;32m      5\u001b[0m \u001b[0mcase\u001b[0m \u001b[0;34m=\u001b[0m \u001b[0;34m(\u001b[0m\u001b[0;34m'aoa%.02f'\u001b[0m \u001b[0;34m%\u001b[0m \u001b[0maoa_ini_deg\u001b[0m\u001b[0;34m)\u001b[0m\u001b[0;34m.\u001b[0m\u001b[0mreplace\u001b[0m\u001b[0;34m(\u001b[0m\u001b[0;34m\".\"\u001b[0m\u001b[0;34m,\u001b[0m\u001b[0;34m\"p\"\u001b[0m\u001b[0;34m)\u001b[0m\u001b[0;34m\u001b[0m\u001b[0;34m\u001b[0m\u001b[0m\n",
      "\u001b[0;31mNameError\u001b[0m: name 'end_time' is not defined"
     ]
    }
   ],
   "source": [
    "# Compute the number of time steps needed based on the previous parameters\n",
    "time_steps = int(end_time/dt)\n",
    "\n",
    "# Generate basic information about the case\n",
    "case = ('aoa%.02f' % aoa_ini_deg).replace(\".\",\"p\")\n",
    "route = os.path.dirname(os.path.realpath(__file__)) + '/'\n",
    "\n",
    "# Define the simulation\n",
    "SimInfo = gc.SimulationInformation()\n",
    "SimInfo.set_default_values()\n",
    "\n",
    "SimInfo.solvers['SHARPy']['flow'] = ['BeamLoader',\n",
    "                        'AerogridLoader',\n",
    "                        'StaticCoupled',\n",
    "                        'AerogridPlot',\n",
    "                        'BeamPlot',\n",
    "                        'DynamicCoupled']\n",
    "\n",
    "SimInfo.solvers['SHARPy']['case'] = case\n",
    "SimInfo.solvers['SHARPy']['route'] = route\n",
    "\n"
   ]
  },
  {
   "cell_type": "code",
   "execution_count": 5,
   "metadata": {},
   "outputs": [
    {
     "ename": "NameError",
     "evalue": "name 'air_density' is not defined",
     "output_type": "error",
     "traceback": [
      "\u001b[0;31m---------------------------------------------------------------------------\u001b[0m",
      "\u001b[0;31mNameError\u001b[0m                                 Traceback (most recent call last)",
      "\u001b[0;32m<ipython-input-5-1aaca8cd9ab0>\u001b[0m in \u001b[0;36m<module>\u001b[0;34m\u001b[0m\n\u001b[0;32m----> 1\u001b[0;31m \u001b[0mSimInfo\u001b[0m\u001b[0;34m.\u001b[0m\u001b[0mset_variable_all_dicts\u001b[0m\u001b[0;34m(\u001b[0m\u001b[0;34m'rho'\u001b[0m\u001b[0;34m,\u001b[0m \u001b[0mair_density\u001b[0m\u001b[0;34m)\u001b[0m\u001b[0;34m\u001b[0m\u001b[0;34m\u001b[0m\u001b[0m\n\u001b[0m\u001b[1;32m      2\u001b[0m \u001b[0;31m# SimInfo.set_variable_all_dicts('velocity_field_generator','SteadyVelocityField')\u001b[0m\u001b[0;34m\u001b[0m\u001b[0;34m\u001b[0m\u001b[0;34m\u001b[0m\u001b[0m\n\u001b[1;32m      3\u001b[0m \u001b[0mSimInfo\u001b[0m\u001b[0;34m.\u001b[0m\u001b[0mset_variable_all_dicts\u001b[0m\u001b[0;34m(\u001b[0m\u001b[0;34m'dt'\u001b[0m\u001b[0;34m,\u001b[0m \u001b[0mdt\u001b[0m\u001b[0;34m)\u001b[0m\u001b[0;34m\u001b[0m\u001b[0;34m\u001b[0m\u001b[0m\n\u001b[1;32m      4\u001b[0m \u001b[0mSimInfo\u001b[0m\u001b[0;34m.\u001b[0m\u001b[0mdefine_num_steps\u001b[0m\u001b[0;34m(\u001b[0m\u001b[0mtime_steps\u001b[0m\u001b[0;34m)\u001b[0m\u001b[0;34m\u001b[0m\u001b[0;34m\u001b[0m\u001b[0m\n",
      "\u001b[0;31mNameError\u001b[0m: name 'air_density' is not defined"
     ]
    }
   ],
   "source": [
    "SimInfo.set_variable_all_dicts('rho', air_density)\n",
    "# SimInfo.set_variable_all_dicts('velocity_field_generator','SteadyVelocityField')\n",
    "SimInfo.set_variable_all_dicts('dt', dt)\n",
    "SimInfo.define_num_steps(time_steps)"
   ]
  },
  {
   "cell_type": "code",
   "execution_count": 6,
   "metadata": {},
   "outputs": [
    {
     "ename": "NameError",
     "evalue": "name 'mstar' is not defined",
     "output_type": "error",
     "traceback": [
      "\u001b[0;31m---------------------------------------------------------------------------\u001b[0m",
      "\u001b[0;31mNameError\u001b[0m                                 Traceback (most recent call last)",
      "\u001b[0;32m<ipython-input-6-9cb020f39eec>\u001b[0m in \u001b[0;36m<module>\u001b[0;34m\u001b[0m\n\u001b[1;32m      1\u001b[0m \u001b[0mSimInfo\u001b[0m\u001b[0;34m.\u001b[0m\u001b[0msolvers\u001b[0m\u001b[0;34m[\u001b[0m\u001b[0;34m'AerogridLoader'\u001b[0m\u001b[0;34m]\u001b[0m\u001b[0;34m[\u001b[0m\u001b[0;34m'unsteady'\u001b[0m\u001b[0;34m]\u001b[0m \u001b[0;34m=\u001b[0m \u001b[0;34m'on'\u001b[0m\u001b[0;34m\u001b[0m\u001b[0;34m\u001b[0m\u001b[0m\n\u001b[0;32m----> 2\u001b[0;31m \u001b[0mSimInfo\u001b[0m\u001b[0;34m.\u001b[0m\u001b[0msolvers\u001b[0m\u001b[0;34m[\u001b[0m\u001b[0;34m'AerogridLoader'\u001b[0m\u001b[0;34m]\u001b[0m\u001b[0;34m[\u001b[0m\u001b[0;34m'mstar'\u001b[0m\u001b[0;34m]\u001b[0m \u001b[0;34m=\u001b[0m \u001b[0mmstar\u001b[0m\u001b[0;34m\u001b[0m\u001b[0;34m\u001b[0m\u001b[0m\n\u001b[0m\u001b[1;32m      3\u001b[0m \u001b[0mSimInfo\u001b[0m\u001b[0;34m.\u001b[0m\u001b[0msolvers\u001b[0m\u001b[0;34m[\u001b[0m\u001b[0;34m'AerogridLoader'\u001b[0m\u001b[0;34m]\u001b[0m\u001b[0;34m[\u001b[0m\u001b[0;34m'freestream_dir'\u001b[0m\u001b[0;34m]\u001b[0m \u001b[0;34m=\u001b[0m \u001b[0mnp\u001b[0m\u001b[0;34m.\u001b[0m\u001b[0marray\u001b[0m\u001b[0;34m(\u001b[0m\u001b[0;34m[\u001b[0m\u001b[0;36m1.\u001b[0m\u001b[0;34m,\u001b[0m\u001b[0;36m0.\u001b[0m\u001b[0;34m,\u001b[0m\u001b[0;36m0.\u001b[0m\u001b[0;34m]\u001b[0m\u001b[0;34m)\u001b[0m\u001b[0;34m\u001b[0m\u001b[0;34m\u001b[0m\u001b[0m\n",
      "\u001b[0;31mNameError\u001b[0m: name 'mstar' is not defined"
     ]
    }
   ],
   "source": [
    "SimInfo.solvers['AerogridLoader']['unsteady'] = 'on'\n",
    "SimInfo.solvers['AerogridLoader']['mstar'] = mstar\n",
    "SimInfo.solvers['AerogridLoader']['freestream_dir'] = np.array([1.,0.,0.])"
   ]
  },
  {
   "cell_type": "code",
   "execution_count": 7,
   "metadata": {},
   "outputs": [
    {
     "ename": "NameError",
     "evalue": "name 'dt' is not defined",
     "output_type": "error",
     "traceback": [
      "\u001b[0;31m---------------------------------------------------------------------------\u001b[0m",
      "\u001b[0;31mNameError\u001b[0m                                 Traceback (most recent call last)",
      "\u001b[0;32m<ipython-input-7-5cd993d4c53c>\u001b[0m in \u001b[0;36m<module>\u001b[0;34m\u001b[0m\n\u001b[1;32m      2\u001b[0m \u001b[0mSimInfo\u001b[0m\u001b[0;34m.\u001b[0m\u001b[0msolvers\u001b[0m\u001b[0;34m[\u001b[0m\u001b[0;34m'StaticUvlm'\u001b[0m\u001b[0;34m]\u001b[0m\u001b[0;34m[\u001b[0m\u001b[0;34m'num_cores'\u001b[0m\u001b[0;34m]\u001b[0m \u001b[0;34m=\u001b[0m \u001b[0;36m8\u001b[0m\u001b[0;34m\u001b[0m\u001b[0;34m\u001b[0m\u001b[0m\n\u001b[1;32m      3\u001b[0m \u001b[0mSimInfo\u001b[0m\u001b[0;34m.\u001b[0m\u001b[0msolvers\u001b[0m\u001b[0;34m[\u001b[0m\u001b[0;34m'StaticUvlm'\u001b[0m\u001b[0;34m]\u001b[0m\u001b[0;34m[\u001b[0m\u001b[0;34m'n_rollup'\u001b[0m\u001b[0;34m]\u001b[0m \u001b[0;34m=\u001b[0m \u001b[0;36m0\u001b[0m\u001b[0;34m\u001b[0m\u001b[0;34m\u001b[0m\u001b[0m\n\u001b[0;32m----> 4\u001b[0;31m \u001b[0mSimInfo\u001b[0m\u001b[0;34m.\u001b[0m\u001b[0msolvers\u001b[0m\u001b[0;34m[\u001b[0m\u001b[0;34m'StaticUvlm'\u001b[0m\u001b[0;34m]\u001b[0m\u001b[0;34m[\u001b[0m\u001b[0;34m'rollup_dt'\u001b[0m\u001b[0;34m]\u001b[0m \u001b[0;34m=\u001b[0m \u001b[0mdt\u001b[0m\u001b[0;34m\u001b[0m\u001b[0;34m\u001b[0m\u001b[0m\n\u001b[0m\u001b[1;32m      5\u001b[0m \u001b[0mSimInfo\u001b[0m\u001b[0;34m.\u001b[0m\u001b[0msolvers\u001b[0m\u001b[0;34m[\u001b[0m\u001b[0;34m'StaticUvlm'\u001b[0m\u001b[0;34m]\u001b[0m\u001b[0;34m[\u001b[0m\u001b[0;34m'velocity_field_generator'\u001b[0m\u001b[0;34m]\u001b[0m \u001b[0;34m=\u001b[0m \u001b[0;34m'SteadyVelocityField'\u001b[0m\u001b[0;34m\u001b[0m\u001b[0;34m\u001b[0m\u001b[0m\n\u001b[1;32m      6\u001b[0m SimInfo.solvers['StaticUvlm']['velocity_field_input'] = {'u_inf' : WSP,\n",
      "\u001b[0;31mNameError\u001b[0m: name 'dt' is not defined"
     ]
    }
   ],
   "source": [
    "SimInfo.solvers['StaticUvlm']['horseshoe'] = True\n",
    "SimInfo.solvers['StaticUvlm']['num_cores'] = 8\n",
    "SimInfo.solvers['StaticUvlm']['n_rollup'] = 0\n",
    "SimInfo.solvers['StaticUvlm']['rollup_dt'] = dt\n",
    "SimInfo.solvers['StaticUvlm']['velocity_field_generator'] = 'SteadyVelocityField'\n",
    "SimInfo.solvers['StaticUvlm']['velocity_field_input'] = {'u_inf' : WSP,\n",
    "                                                         'u_inf_direction' : np.array([np.cos(aoa_ini_deg*deg2rad), 0., np.sin(aoa_ini_deg*deg2rad)])}\n"
   ]
  },
  {
   "cell_type": "code",
   "execution_count": 8,
   "metadata": {},
   "outputs": [
    {
     "ename": "NameError",
     "evalue": "name 'WSP' is not defined",
     "output_type": "error",
     "traceback": [
      "\u001b[0;31m---------------------------------------------------------------------------\u001b[0m",
      "\u001b[0;31mNameError\u001b[0m                                 Traceback (most recent call last)",
      "\u001b[0;32m<ipython-input-8-960175223d95>\u001b[0m in \u001b[0;36m<module>\u001b[0;34m\u001b[0m\n\u001b[1;32m     10\u001b[0m \u001b[0mSimInfo\u001b[0m\u001b[0;34m.\u001b[0m\u001b[0msolvers\u001b[0m\u001b[0;34m[\u001b[0m\u001b[0;34m'StepUvlm'\u001b[0m\u001b[0;34m]\u001b[0m\u001b[0;34m[\u001b[0m\u001b[0;34m'convection_scheme'\u001b[0m\u001b[0;34m]\u001b[0m \u001b[0;34m=\u001b[0m \u001b[0;36m0\u001b[0m\u001b[0;34m\u001b[0m\u001b[0;34m\u001b[0m\u001b[0m\n\u001b[1;32m     11\u001b[0m \u001b[0mSimInfo\u001b[0m\u001b[0;34m.\u001b[0m\u001b[0msolvers\u001b[0m\u001b[0;34m[\u001b[0m\u001b[0;34m'StepUvlm'\u001b[0m\u001b[0;34m]\u001b[0m\u001b[0;34m[\u001b[0m\u001b[0;34m'num_cores'\u001b[0m\u001b[0;34m]\u001b[0m \u001b[0;34m=\u001b[0m \u001b[0;36m8\u001b[0m\u001b[0;34m\u001b[0m\u001b[0;34m\u001b[0m\u001b[0m\n\u001b[0;32m---> 12\u001b[0;31m SimInfo.solvers['StepUvlm']['velocity_field_input'] = {'u_inf' : WSP,\n\u001b[0m\u001b[1;32m     13\u001b[0m                                                        'u_inf_direction' : np.array([1., 0., 0.])}\n\u001b[1;32m     14\u001b[0m \u001b[0;34m\u001b[0m\u001b[0m\n",
      "\u001b[0;31mNameError\u001b[0m: name 'WSP' is not defined"
     ]
    }
   ],
   "source": [
    "SimInfo.solvers['StaticCoupled']['structural_solver'] = 'NonLinearStatic'\n",
    "SimInfo.solvers['StaticCoupled']['structural_solver_settings'] = SimInfo.solvers['NonLinearStatic']\n",
    "SimInfo.solvers['StaticCoupled']['aero_solver'] = 'StaticUvlm'\n",
    "SimInfo.solvers['StaticCoupled']['aero_solver_settings'] = SimInfo.solvers['StaticUvlm']\n",
    "SimInfo.solvers['StaticCoupled']['max_iter'] = 100\n",
    "SimInfo.solvers['StaticCoupled']['n_load_steps'] = 0\n",
    "SimInfo.solvers['StaticCoupled']['tolerance'] = 1e-08\n",
    "SimInfo.solvers['StaticCoupled']['relaxation_factor'] = 0.0\n",
    "\n",
    "SimInfo.solvers['StepUvlm']['convection_scheme'] = 0\n",
    "SimInfo.solvers['StepUvlm']['num_cores'] = 8\n",
    "SimInfo.solvers['StepUvlm']['velocity_field_input'] = {'u_inf' : WSP,\n",
    "                                                       'u_inf_direction' : np.array([1., 0., 0.])}\n",
    "\n",
    "SimInfo.solvers['WriteVariablesTime']['structure_variables'] = ['pos', 'psi']\n",
    "SimInfo.solvers['WriteVariablesTime']['structure_nodes'] = list(range(0, num_node))\n",
    "\n",
    "SimInfo.solvers['NonLinearDynamicPrescribedStep']['max_iterations'] = 100\n",
    "SimInfo.solvers['NonLinearDynamicPrescribedStep']['num_load_steps'] = 1\n",
    "SimInfo.solvers['NonLinearDynamicPrescribedStep']['delta_curved'] = 0.01\n",
    "SimInfo.solvers['NonLinearDynamicPrescribedStep']['min_delta'] = 1e-05\n",
    "SimInfo.solvers['NonLinearDynamicPrescribedStep']['newmark_damp'] = 0.\n",
    "SimInfo.solvers['NonLinearDynamicPrescribedStep']['gravity_on'] = False\n",
    "SimInfo.solvers['NonLinearDynamicPrescribedStep']['gravity'] = 9.81\n",
    "SimInfo.solvers['NonLinearDynamicPrescribedStep']['relaxation_factor'] = 0.\n",
    "\n",
    "SimInfo.solvers['DynamicCoupled']['structural_solver'] = 'NonLinearDynamicPrescribedStep'\n",
    "SimInfo.solvers['DynamicCoupled']['structural_solver_settings'] = SimInfo.solvers['NonLinearDynamicPrescribedStep']\n",
    "SimInfo.solvers['DynamicCoupled']['aero_solver'] = 'StepUvlm'\n",
    "SimInfo.solvers['DynamicCoupled']['aero_solver_settings'] = SimInfo.solvers['StepUvlm']\n",
    "SimInfo.solvers['DynamicCoupled']['postprocessors'] = ['BeamPlot', 'AerogridPlot', 'Cleanup', 'WriteVariablesTime']\n",
    "SimInfo.solvers['DynamicCoupled']['postprocessors_settings'] = {'BeamPlot': SimInfo.solvers['BeamPlot'],\n",
    "                                                             'AerogridPlot': SimInfo.solvers['AerogridPlot'],\n",
    "                                                             'WriteVariablesTime': SimInfo.solvers['WriteVariablesTime'],\n",
    "                                                             'Cleanup': SimInfo.solvers['Cleanup']}\n",
    "SimInfo.solvers['DynamicCoupled']['minimum_steps'] = 0\n",
    "SimInfo.solvers['DynamicCoupled']['include_unsteady_force_contribution'] = True\n",
    "SimInfo.solvers['DynamicCoupled']['relaxation_factor'] = 0.\n",
    "SimInfo.solvers['DynamicCoupled']['final_relaxation_factor'] = 0.\n",
    "SimInfo.solvers['DynamicCoupled']['dynamic_relaxation'] = False\n",
    "SimInfo.solvers['DynamicCoupled']['relaxation_steps'] = 0\n",
    "SimInfo.solvers['DynamicCoupled']['fsi_tolerance'] = 1e-8\n",
    "SimInfo.solvers['DynamicCoupled']['fsi_substeps'] = 70\n",
    "SimInfo.solvers['DynamicCoupled']['structural_substeps'] = 0\n",
    "SimInfo.solvers['DynamicCoupled']['steps_without_unsteady_force'] = 0\n",
    "SimInfo.solvers['DynamicCoupled']['pseudosteps_ramp_unsteady_force'] = 0\n"
   ]
  },
  {
   "cell_type": "code",
   "execution_count": 9,
   "metadata": {},
   "outputs": [
    {
     "ename": "NameError",
     "evalue": "name 'time_steps' is not defined",
     "output_type": "error",
     "traceback": [
      "\u001b[0;31m---------------------------------------------------------------------------\u001b[0m",
      "\u001b[0;31mNameError\u001b[0m                                 Traceback (most recent call last)",
      "\u001b[0;32m<ipython-input-9-0bcac860ad20>\u001b[0m in \u001b[0;36m<module>\u001b[0;34m\u001b[0m\n\u001b[1;32m      1\u001b[0m \u001b[0mSimInfo\u001b[0m\u001b[0;34m.\u001b[0m\u001b[0mwith_forced_vel\u001b[0m \u001b[0;34m=\u001b[0m \u001b[0;32mTrue\u001b[0m\u001b[0;34m\u001b[0m\u001b[0;34m\u001b[0m\u001b[0m\n\u001b[0;32m----> 2\u001b[0;31m \u001b[0mSimInfo\u001b[0m\u001b[0;34m.\u001b[0m\u001b[0mfor_vel\u001b[0m \u001b[0;34m=\u001b[0m \u001b[0mnp\u001b[0m\u001b[0;34m.\u001b[0m\u001b[0mzeros\u001b[0m\u001b[0;34m(\u001b[0m\u001b[0;34m(\u001b[0m\u001b[0mtime_steps\u001b[0m\u001b[0;34m,\u001b[0m\u001b[0;36m6\u001b[0m\u001b[0;34m)\u001b[0m\u001b[0;34m,\u001b[0m \u001b[0mdtype\u001b[0m\u001b[0;34m=\u001b[0m\u001b[0mfloat\u001b[0m\u001b[0;34m)\u001b[0m\u001b[0;34m\u001b[0m\u001b[0;34m\u001b[0m\u001b[0m\n\u001b[0m\u001b[1;32m      3\u001b[0m \u001b[0mSimInfo\u001b[0m\u001b[0;34m.\u001b[0m\u001b[0mfor_acc\u001b[0m \u001b[0;34m=\u001b[0m \u001b[0mnp\u001b[0m\u001b[0;34m.\u001b[0m\u001b[0mzeros\u001b[0m\u001b[0;34m(\u001b[0m\u001b[0;34m(\u001b[0m\u001b[0mtime_steps\u001b[0m\u001b[0;34m,\u001b[0m\u001b[0;36m6\u001b[0m\u001b[0;34m)\u001b[0m\u001b[0;34m,\u001b[0m \u001b[0mdtype\u001b[0m\u001b[0;34m=\u001b[0m\u001b[0mfloat\u001b[0m\u001b[0;34m)\u001b[0m\u001b[0;34m\u001b[0m\u001b[0;34m\u001b[0m\u001b[0m\n\u001b[1;32m      4\u001b[0m \u001b[0mSimInfo\u001b[0m\u001b[0;34m.\u001b[0m\u001b[0mwith_dynamic_forces\u001b[0m \u001b[0;34m=\u001b[0m \u001b[0;32mTrue\u001b[0m\u001b[0;34m\u001b[0m\u001b[0;34m\u001b[0m\u001b[0m\n\u001b[1;32m      5\u001b[0m \u001b[0mSimInfo\u001b[0m\u001b[0;34m.\u001b[0m\u001b[0mdynamic_forces\u001b[0m \u001b[0;34m=\u001b[0m \u001b[0mnp\u001b[0m\u001b[0;34m.\u001b[0m\u001b[0mzeros\u001b[0m\u001b[0;34m(\u001b[0m\u001b[0;34m(\u001b[0m\u001b[0mtime_steps\u001b[0m\u001b[0;34m,\u001b[0m\u001b[0mairfoil\u001b[0m\u001b[0;34m.\u001b[0m\u001b[0mStructuralInformation\u001b[0m\u001b[0;34m.\u001b[0m\u001b[0mnum_node\u001b[0m\u001b[0;34m,\u001b[0m\u001b[0;36m6\u001b[0m\u001b[0;34m)\u001b[0m\u001b[0;34m,\u001b[0m \u001b[0mdtype\u001b[0m\u001b[0;34m=\u001b[0m\u001b[0mfloat\u001b[0m\u001b[0;34m)\u001b[0m\u001b[0;34m\u001b[0m\u001b[0;34m\u001b[0m\u001b[0m\n",
      "\u001b[0;31mNameError\u001b[0m: name 'time_steps' is not defined"
     ]
    }
   ],
   "source": [
    "SimInfo.with_forced_vel = True\n",
    "SimInfo.for_vel = np.zeros((time_steps,6), dtype=float)\n",
    "SimInfo.for_acc = np.zeros((time_steps,6), dtype=float)\n",
    "SimInfo.with_dynamic_forces = True\n",
    "SimInfo.dynamic_forces = np.zeros((time_steps,airfoil.StructuralInformation.num_node,6), dtype=float)"
   ]
  },
  {
   "cell_type": "code",
   "execution_count": 10,
   "metadata": {},
   "outputs": [
    {
     "ename": "NameError",
     "evalue": "name 'airfoil' is not defined",
     "output_type": "error",
     "traceback": [
      "\u001b[0;31m---------------------------------------------------------------------------\u001b[0m",
      "\u001b[0;31mNameError\u001b[0m                                 Traceback (most recent call last)",
      "\u001b[0;32m<ipython-input-10-59f1bb1db52a>\u001b[0m in \u001b[0;36m<module>\u001b[0;34m\u001b[0m\n\u001b[1;32m      1\u001b[0m \u001b[0mgc\u001b[0m\u001b[0;34m.\u001b[0m\u001b[0mclean_test_files\u001b[0m\u001b[0;34m(\u001b[0m\u001b[0mSimInfo\u001b[0m\u001b[0;34m.\u001b[0m\u001b[0msolvers\u001b[0m\u001b[0;34m[\u001b[0m\u001b[0;34m'SHARPy'\u001b[0m\u001b[0;34m]\u001b[0m\u001b[0;34m[\u001b[0m\u001b[0;34m'route'\u001b[0m\u001b[0;34m]\u001b[0m\u001b[0;34m,\u001b[0m \u001b[0mSimInfo\u001b[0m\u001b[0;34m.\u001b[0m\u001b[0msolvers\u001b[0m\u001b[0;34m[\u001b[0m\u001b[0;34m'SHARPy'\u001b[0m\u001b[0;34m]\u001b[0m\u001b[0;34m[\u001b[0m\u001b[0;34m'case'\u001b[0m\u001b[0;34m]\u001b[0m\u001b[0;34m)\u001b[0m\u001b[0;34m\u001b[0m\u001b[0;34m\u001b[0m\u001b[0m\n\u001b[0;32m----> 2\u001b[0;31m \u001b[0mairfoil\u001b[0m\u001b[0;34m.\u001b[0m\u001b[0mgenerate_h5_files\u001b[0m\u001b[0;34m(\u001b[0m\u001b[0mSimInfo\u001b[0m\u001b[0;34m.\u001b[0m\u001b[0msolvers\u001b[0m\u001b[0;34m[\u001b[0m\u001b[0;34m'SHARPy'\u001b[0m\u001b[0;34m]\u001b[0m\u001b[0;34m[\u001b[0m\u001b[0;34m'route'\u001b[0m\u001b[0;34m]\u001b[0m\u001b[0;34m,\u001b[0m \u001b[0mSimInfo\u001b[0m\u001b[0;34m.\u001b[0m\u001b[0msolvers\u001b[0m\u001b[0;34m[\u001b[0m\u001b[0;34m'SHARPy'\u001b[0m\u001b[0;34m]\u001b[0m\u001b[0;34m[\u001b[0m\u001b[0;34m'case'\u001b[0m\u001b[0;34m]\u001b[0m\u001b[0;34m)\u001b[0m\u001b[0;34m\u001b[0m\u001b[0;34m\u001b[0m\u001b[0m\n\u001b[0m\u001b[1;32m      3\u001b[0m \u001b[0mSimInfo\u001b[0m\u001b[0;34m.\u001b[0m\u001b[0mgenerate_solver_file\u001b[0m\u001b[0;34m(\u001b[0m\u001b[0;34m)\u001b[0m\u001b[0;34m\u001b[0m\u001b[0;34m\u001b[0m\u001b[0m\n\u001b[1;32m      4\u001b[0m \u001b[0mSimInfo\u001b[0m\u001b[0;34m.\u001b[0m\u001b[0mgenerate_dyn_file\u001b[0m\u001b[0;34m(\u001b[0m\u001b[0mtime_steps\u001b[0m\u001b[0;34m)\u001b[0m\u001b[0;34m\u001b[0m\u001b[0;34m\u001b[0m\u001b[0m\n",
      "\u001b[0;31mNameError\u001b[0m: name 'airfoil' is not defined"
     ]
    }
   ],
   "source": [
    "gc.clean_test_files(SimInfo.solvers['SHARPy']['route'], SimInfo.solvers['SHARPy']['case'])\n",
    "airfoil.generate_h5_files(SimInfo.solvers['SHARPy']['route'], SimInfo.solvers['SHARPy']['case'])\n",
    "SimInfo.generate_solver_file()\n",
    "SimInfo.generate_dyn_file(time_steps)"
   ]
  },
  {
   "cell_type": "code",
   "execution_count": null,
   "metadata": {},
   "outputs": [],
   "source": []
  },
  {
   "cell_type": "code",
   "execution_count": null,
   "metadata": {},
   "outputs": [],
   "source": []
  },
  {
   "cell_type": "code",
   "execution_count": null,
   "metadata": {},
   "outputs": [],
   "source": []
  },
  {
   "cell_type": "code",
   "execution_count": 11,
   "metadata": {},
   "outputs": [
    {
     "ename": "NameError",
     "evalue": "name 'sharpy' is not defined",
     "output_type": "error",
     "traceback": [
      "\u001b[0;31m---------------------------------------------------------------------------\u001b[0m",
      "\u001b[0;31mNameError\u001b[0m                                 Traceback (most recent call last)",
      "\u001b[0;32m<ipython-input-11-bc300c021298>\u001b[0m in \u001b[0;36m<module>\u001b[0;34m\u001b[0m\n\u001b[0;32m----> 1\u001b[0;31m \u001b[0msharpy_output\u001b[0m \u001b[0;34m=\u001b[0m \u001b[0msharpy\u001b[0m\u001b[0;34m.\u001b[0m\u001b[0msharpy_main\u001b[0m\u001b[0;34m.\u001b[0m\u001b[0mmain\u001b[0m\u001b[0;34m(\u001b[0m\u001b[0;34m[\u001b[0m\u001b[0;34m''\u001b[0m\u001b[0;34m,\u001b[0m \u001b[0mSimInfo\u001b[0m\u001b[0;34m.\u001b[0m\u001b[0msolvers\u001b[0m\u001b[0;34m[\u001b[0m\u001b[0;34m'SHARPy'\u001b[0m\u001b[0;34m]\u001b[0m\u001b[0;34m[\u001b[0m\u001b[0;34m'route'\u001b[0m\u001b[0;34m]\u001b[0m \u001b[0;34m+\u001b[0m \u001b[0mSimInfo\u001b[0m\u001b[0;34m.\u001b[0m\u001b[0msolvers\u001b[0m\u001b[0;34m[\u001b[0m\u001b[0;34m'SHARPy'\u001b[0m\u001b[0;34m]\u001b[0m\u001b[0;34m[\u001b[0m\u001b[0;34m'case'\u001b[0m\u001b[0;34m]\u001b[0m \u001b[0;34m+\u001b[0m \u001b[0;34m'.sharpy'\u001b[0m\u001b[0;34m]\u001b[0m\u001b[0;34m)\u001b[0m\u001b[0;34m\u001b[0m\u001b[0;34m\u001b[0m\u001b[0m\n\u001b[0m",
      "\u001b[0;31mNameError\u001b[0m: name 'sharpy' is not defined"
     ]
    }
   ],
   "source": [
    "sharpy_output = sharpy.sharpy_main.main(['', SimInfo.solvers['SHARPy']['route'] + SimInfo.solvers['SHARPy']['case'] + '.sharpy'])"
   ]
  },
  {
   "cell_type": "code",
   "execution_count": null,
   "metadata": {},
   "outputs": [],
   "source": [
    "# Generate a simple plot of the timestep "
   ]
  },
  {
   "cell_type": "code",
   "execution_count": null,
   "metadata": {},
   "outputs": [],
   "source": [
    "pu.plot_timestep(data, tstep=-1)\n",
    "\n",
    "fig, list_plots = plt.subplots(1, 2, figsize=(12, 3))\n",
    "\n",
    "list_plots[0].grid()\n",
    "list_plots[0].set_xlabel(\"r/R [-]\")\n",
    "list_plots[0].set_ylabel(\"CN/d(r/R) [-]\")\n",
    "list_plots[0].plot(r[0]/R, CN_drR[0], '-', label='SHARPy')\n",
    "list_plots[0].plot(of_rR, of_cNdrR, '-', label='OpenFAST')\n",
    "list_plots[0].legend()\n",
    "\n",
    "list_plots[1].grid()\n",
    "list_plots[1].set_xlabel(\"r/R [-]\")\n",
    "list_plots[1].set_ylabel(\"CT/d(r/R) [-]\")\n",
    "list_plots[1].plot(r[0]/R, CTan_drR[0], '-', label='SHARPy')\n",
    "list_plots[1].plot(of_rR, of_cTdrR, '-', label='OpenFAST')\n",
    "list_plots[1].legend()\n",
    "\n",
    "plt.show()"
   ]
  }
 ],
 "metadata": {
  "kernelspec": {
   "display_name": "Python 3",
   "language": "python",
   "name": "python3"
  },
  "language_info": {
   "codemirror_mode": {
    "name": "ipython",
    "version": 3
   },
   "file_extension": ".py",
   "mimetype": "text/x-python",
   "name": "python",
   "nbconvert_exporter": "python",
   "pygments_lexer": "ipython3",
   "version": "3.7.5"
  }
 },
 "nbformat": 4,
 "nbformat_minor": 2
}
