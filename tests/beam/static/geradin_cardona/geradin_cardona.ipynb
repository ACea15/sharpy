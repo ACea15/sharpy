{
 "cells": [
  {
   "cell_type": "heading",
   "metadata": {
    "collapsed": true
   },
   "level": 1,
   "source": [
    "Geradin and Cardona test case"
   ]
  },
  {
   "cell_type": "heading",
   "metadata": {},
   "level": 2,
   "source": [
    "Description"
   ]
  },
  {
   "cell_type": "markdown",
   "metadata": {},
   "source": [
    "This case is a simple static cantilever beam, used as a test case by Geradin and Cardona in their book Flexible Multibody Dynamics.\n",
    "\n",
    "The beam length is $L = 5$ m and its mass per unit length is $\\bar{m} = 100$ kg/m. Its cross-sectional inertia is $J = 10$ kgm. Stiffness is: $EA = 4.8e8$ N, $GA = 3.231e8$ N, $GJ = 1e6$ N, $EI = 9.346e6$ Nm."
   ]
  },
  {
   "cell_type": "code",
   "execution_count": 3,
   "metadata": {},
   "outputs": [],
   "source": [
    "# Necessary packages and imports\n",
    "import h5py as h5\n",
    "import numpy as np\n",
    "import os\n",
    "import configparser"
   ]
  },
  {
   "cell_type": "code",
   "execution_count": 4,
   "metadata": {},
   "outputs": [],
   "source": [
    "# parameters\n",
    "length = 5\n",
    "m_bar = 100\n",
    "j = 10\n",
    "\n",
    "ea = 4.8e8\n",
    "ga = 3.231e8\n",
    "gj = 1e6\n",
    "ei = 9.346e6"
   ]
  },
  {
   "cell_type": "code",
   "execution_count": null,
   "metadata": {},
   "outputs": [],
   "source": [
    ""
   ]
  }
 ],
 "metadata": {
  "kernelspec": {
   "display_name": "Python 2",
   "language": "python",
   "name": "python2"
  },
  "language_info": {
   "codemirror_mode": {
    "name": "ipython",
    "version": 2.0
   },
   "file_extension": ".py",
   "mimetype": "text/x-python",
   "name": "python",
   "nbconvert_exporter": "python",
   "pygments_lexer": "ipython2",
   "version": "2.7.6"
  }
 },
 "nbformat": 4,
 "nbformat_minor": 0
}