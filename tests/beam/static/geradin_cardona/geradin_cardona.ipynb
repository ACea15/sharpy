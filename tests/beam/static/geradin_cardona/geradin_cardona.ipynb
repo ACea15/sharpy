{
 "cells": [
  {
   "cell_type": "markdown",
   "metadata": {
    "collapsed": true
   },
   "source": [
    "# Geradin and Cardona test case"
   ]
  },
  {
   "cell_type": "code",
   "execution_count": 1,
   "metadata": {
    "collapsed": true
   },
   "outputs": [],
   "source": [
    "# Necessary packages and imports\n",
    "import h5py as h5\n",
    "import numpy as np\n",
    "import configparser"
   ]
  },
  {
   "cell_type": "markdown",
   "metadata": {},
   "source": [
    "## Description"
   ]
  },
  {
   "cell_type": "markdown",
   "metadata": {},
   "source": [
    "This case is a simple static cantilever beam, used as a test case by Geradin and Cardona in their book Flexible Multibody Dynamics.\n",
    "\n",
    "The beam length is $L = 5$ m and its mass per unit length is $\\bar{m} = 100$ kg/m. Its cross-sectional inertia is $J = 10$ kgm. Stiffness is: $EA = 4.8e8$ N, $GA = 3.231e8$ N, $GJ = 1e6$ N, $EI = 9.346e6$ Nm.\n",
    "\n",
    "However, the test case is formulated so that the weight of the beam is not included. Only a -600kN dead vertical tip force will be applied. This will be modelled as a lumped mass at the tip with mass = 61183 kg"
   ]
  },
  {
   "cell_type": "code",
   "execution_count": 2,
   "metadata": {
    "collapsed": true
   },
   "outputs": [],
   "source": [
    "# parameters\n",
    "length = 5\n",
    "m_bar = 100*0       # we don't consider the dsitributed mass\n",
    "j = 10\n",
    "\n",
    "ea = 4.8e8\n",
    "ga = 3.231e8\n",
    "gj = 1e6\n",
    "ei = 9.346e6\n",
    "\n",
    "tip_lumped_mass = 600e3/9.81"
   ]
  },
  {
   "cell_type": "markdown",
   "metadata": {},
   "source": [
    "For this simulation, we are going to use 10 3-noded elements. "
   ]
  },
  {
   "cell_type": "code",
   "execution_count": 3,
   "metadata": {
    "collapsed": true
   },
   "outputs": [],
   "source": [
    "num_node_elem = 3\n",
    "num_elem = 10\n",
    "num_node = (num_node_elem - 1)*num_elem + 1"
   ]
  },
  {
   "cell_type": "markdown",
   "metadata": {},
   "source": [
    "## Setup"
   ]
  },
  {
   "cell_type": "markdown",
   "metadata": {},
   "source": [
    "A complete input file needs all the following information:\n",
    "+ [Nodal Coordinates](#nodal-coordinates)\n",
    "+ [Connectivity information](#connectivities)\n",
    "+ [Boundary Conditions](#boundary-conditions)\n",
    "+ [Structural Twist](#structural-twist)\n",
    "+ [Frame of Reference Definition](#frame-of-reference-definition)\n",
    "+ [Beam Properties](#beam-properties-definition)\n",
    "+ [Beam Number](#beam-number)\n",
    "\n",
    "---"
   ]
  },
  {
   "cell_type": "markdown",
   "metadata": {},
   "source": [
    "### Nodal coordinates"
   ]
  },
  {
   "cell_type": "markdown",
   "metadata": {},
   "source": [
    "Nodal coordinates are stored in 3 different vectors: `x`, `y` and `z` of `size = num_node`:"
   ]
  },
  {
   "cell_type": "code",
   "execution_count": 4,
   "metadata": {
    "collapsed": true
   },
   "outputs": [],
   "source": [
    "x = np.linspace(0, length, num_node)  # very easy straight beam\n",
    "y = np.zeros_like(x)\n",
    "z = np.zeros_like(x)"
   ]
  },
  {
   "cell_type": "markdown",
   "metadata": {},
   "source": [
    "### Connectivities"
   ]
  },
  {
   "cell_type": "markdown",
   "metadata": {},
   "source": [
    "Connectivities are given in a [num_elem, num_node_elem] matrix. The entry for a element like `0---1---2` would be `[0, 2, 1]` (always extrema first). For a two-noded elem like `0---1`, I'd be `[0, 1]`"
   ]
  },
  {
   "cell_type": "code",
   "execution_count": 5,
   "metadata": {
    "collapsed": true
   },
   "outputs": [],
   "source": [
    "conn = np.zeros((num_elem, num_node_elem), dtype=int)\n",
    "for ielem in range(num_elem):\n",
    "    conn[ielem, :] = (np.ones(3,))*ielem*(num_node_elem - 1) + [0, 2, 1]"
   ]
  },
  {
   "cell_type": "markdown",
   "metadata": {},
   "source": [
    "### Boundary conditions\n",
    "Boundary conditions are given in a integer vector with as many elements as nodes has the beam. All the nodes have to be 0, except the **clamped** nodes (1) or the **free** ones (-1)."
   ]
  },
  {
   "cell_type": "code",
   "execution_count": 8,
   "metadata": {
    "collapsed": true
   },
   "outputs": [],
   "source": [
    "boundary_conditions = np.zeros((num_node, 1), dtype=int)\n",
    "boundary_conditions[0] = 1\n",
    "boundary_conditions[-1]=-1"
   ]
  },
  {
   "cell_type": "markdown",
   "metadata": {},
   "source": [
    "### Structural twist"
   ]
  },
  {
   "cell_type": "markdown",
   "metadata": {},
   "source": [
    "SHARPy supports pre-twist in beams, which will be independent from the aerodynamic twist.\n",
    "This angle is given for every node in a vector:\n",
    "`structural_twist[inode] = twist (rad)`.\n",
    "In our case, this is only zeroes."
   ]
  },
  {
   "cell_type": "code",
   "execution_count": 6,
   "metadata": {
    "collapsed": true
   },
   "outputs": [],
   "source": [
    "structural_twist = np.zeros_like(x)"
   ]
  },
  {
   "cell_type": "markdown",
   "metadata": {},
   "source": [
    "### Frame of reference definition\n",
    "In order to define consistently the local (element) frame of reference, a vector has to be indicated. The resulting triad will be:\n",
    "+ `x vector` in the direction of the increasing node order (tangent vector)\n",
    "+ `y vector` in the plane defined by the x vector and the indicated one. The normal vector is chosen normal to the x vector, belonging to this plane and in the direction of the indicated vector.\n",
    "+ `z vector` is chosen to have a right-handed FoR\n",
    "\n",
    "For our case, where the beam is straight and in the x direction, the easiest way of indicating the vector is to input [0, 1, 0] in every node.\n",
    "Note that it is not necessary to give unit vectors, they will be normalised later."
   ]
  },
  {
   "cell_type": "code",
   "execution_count": 9,
   "metadata": {
    "collapsed": true
   },
   "outputs": [],
   "source": [
    "frame_of_reference_delta = np.zeros((num_node, 3))\n",
    "for inode in range(num_node):\n",
    "    frame_of_reference_delta[inode, :] = [0., 1., 0.]"
   ]
  },
  {
   "cell_type": "markdown",
   "metadata": {},
   "source": [
    "### Beam properties description\n",
    "Beam properties are stiffness and distributed inertia. The properties are assumed constant inside an element. These two are given by `6x6` diagonal matrices for this case:\n",
    "\n",
    "Mass:\n",
    "$\\mathcal{M} = \\text{diag}(\\bar{m}, \\bar{m}, \\bar{m}, J_x, J_y, J_z)$\n",
    "\n",
    "Stiffness:\n",
    "$\\mathcal{K} = \\text{diag}(EA, GA, GA, GJ, EI_y, EI_z)$\n",
    "\n",
    "Please note that the unit system is arbitrary but needs to be consistent. $\\bar{m}$ denotes the mass per unit length.\n",
    "\n",
    "---\n",
    "In order not to repeat these `6x6` matrices, these are stored in a \"dictionary\". Then, for every element, only the index of where the matrix is stored is associated. It is easier with an example in mind. Our beam has constant properties, so the mass dictionary and the stiffness dictionary will have only one entry each:"
   ]
  },
  {
   "cell_type": "code",
   "execution_count": 11,
   "metadata": {
    "collapsed": true
   },
   "outputs": [],
   "source": [
    "num_stiffness = 1\n",
    "stiffness = np.zeros((num_stiffness, 6, 6))\n",
    "stiffness[0, :, :] = np.diag([ea, ga, ga, gj, ei, ei])  # this stiffness matrix is the \"dictionary\"\n",
    "elem_stiffness = np.zeros((num_elem,), dtype=int)       # Every element has an integer associated which is the first index\n",
    "                                                        # of the stiffness[:,:,:] matrix"
   ]
  },
  {
   "cell_type": "code",
   "execution_count": 14,
   "metadata": {
    "collapsed": true
   },
   "outputs": [],
   "source": [
    "# same for the mass\n",
    "num_mass = 1\n",
    "mass = np.zeros((num_mass, 6, 6))\n",
    "mass[0, :, :] = np.diag([m_bar, m_bar, m_bar, j, j, j])\n",
    "elem_mass = np.zeros((num_elem,), dtype=int)"
   ]
  },
  {
   "cell_type": "markdown",
   "metadata": {},
   "source": [
    "### Beam number\n",
    "Beam number is useful when running multibeam simulations. Basically it is a way of grouping beams together for easier post processing. Here, all the elements belong to beam no. 0. Please note that it is the __element__ that belongs to the beam, not the node."
   ]
  },
  {
   "cell_type": "code",
   "execution_count": 15,
   "metadata": {
    "collapsed": false
   },
   "outputs": [],
   "source": [
    "beam_number = np.zeros((num_elem, 1), dtype=int)"
   ]
  },
  {
   "cell_type": "markdown",
   "metadata": {},
   "source": [
    "### Lumped masses\n",
    "Lumped masses are associated with a node, and they are defined with a `3x3` inertia matrix, a mass and a position given in __local__ (element) frame of reference (see [Frame of reference definition](#frame-of-reference-definition)).\n",
    "\n",
    "Here, we are going to add a lumped point mass at the tip of the beam. Its inertia will be zero (because it is a point mass) and the mass is going to be `600e3/9.81` (see [Problem description](#description))."
   ]
  },
  {
   "cell_type": "code",
   "execution_count": 16,
   "metadata": {
    "collapsed": true
   },
   "outputs": [],
   "source": [
    "n_lumped_mass = 1\n",
    "lumped_mass_nodes = np.array([num_node - 1], dtype=int)  # the first (and only) lumped mass is associated with the \n",
    "                                                         # num_node - 1 node, which is the last\n",
    "lumped_mass = np.array([600e3/9.81])\n",
    "lumped_mass_inertia = np.zeros((n_lumped_mass, 3, 3))\n",
    "lumped_mass_position = np.zeros((n_lumped_mass, 3))"
   ]
  },
  {
   "cell_type": "markdown",
   "metadata": {},
   "source": [
    "### Applied follower forces\n",
    "There is also an option for applying static follower forces (in local frame of reference).\n",
    "These are also applied over a node and expressed in local FoR. Every applied force/moment is given by 6 components: $F_x, F_y, F_z, M_x, M_y, M_z$.\n",
    "Our case has none, but as an example:"
   ]
  },
  {
   "cell_type": "code",
   "execution_count": 17,
   "metadata": {
    "collapsed": true
   },
   "outputs": [],
   "source": [
    "#n_app_forces = 1\n",
    "#node_app_forces = np.array([num_node - 1])\n",
    "#app_forces = np.zeros((n_app_forces, 6))\n",
    "#app_forces[0, :] = [0, 0, -1000, 0, 0, 0]\n",
    "\n",
    "# if no forces:\n",
    "n_app_forces = 0\n",
    "node_app_forces = np.array([])\n",
    "app_forces = np.zeros((n_app_forces, 6))"
   ]
  },
  {
   "cell_type": "code",
   "execution_count": null,
   "metadata": {
    "collapsed": true
   },
   "outputs": [],
   "source": []
  }
 ],
 "metadata": {
  "kernelspec": {
   "display_name": "Python [conda root]",
   "language": "python",
   "name": "conda-root-py"
  },
  "language_info": {
   "codemirror_mode": {
    "name": "ipython",
    "version": 3
   },
   "file_extension": ".py",
   "mimetype": "text/x-python",
   "name": "python",
   "nbconvert_exporter": "python",
   "pygments_lexer": "ipython3",
   "version": "3.5.3"
  }
 },
 "nbformat": 4,
 "nbformat_minor": 0
}
